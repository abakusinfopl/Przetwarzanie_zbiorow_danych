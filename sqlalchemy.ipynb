{
  "nbformat": 4,
  "nbformat_minor": 0,
  "metadata": {
    "colab": {
      "name": "sqlalchemy.ipynb",
      "provenance": []
    },
    "kernelspec": {
      "name": "python3",
      "display_name": "Python 3"
    },
    "widgets": {
      "application/vnd.jupyter.widget-state+json": {
        "1c9849c9e5f1455e9ea2723b5d4bad3e": {
          "model_module": "@jupyter-widgets/controls",
          "model_name": "HBoxModel",
          "state": {
            "_view_name": "HBoxView",
            "_dom_classes": [],
            "_model_name": "HBoxModel",
            "_view_module": "@jupyter-widgets/controls",
            "_model_module_version": "1.5.0",
            "_view_count": null,
            "_view_module_version": "1.5.0",
            "box_style": "",
            "layout": "IPY_MODEL_18ee5765926f4e3a9195e4cba6768f49",
            "_model_module": "@jupyter-widgets/controls",
            "children": [
              "IPY_MODEL_da9730ea70404cd2beb8adf6847e626c",
              "IPY_MODEL_3992098c8e304eebacb0beaf62956380",
              "IPY_MODEL_a2a341a9cbaf4c9d9f0c1ee63ee08eb8"
            ]
          }
        },
        "18ee5765926f4e3a9195e4cba6768f49": {
          "model_module": "@jupyter-widgets/base",
          "model_name": "LayoutModel",
          "state": {
            "_view_name": "LayoutView",
            "grid_template_rows": null,
            "right": null,
            "justify_content": null,
            "_view_module": "@jupyter-widgets/base",
            "overflow": null,
            "_model_module_version": "1.2.0",
            "_view_count": null,
            "flex_flow": null,
            "width": null,
            "min_width": null,
            "border": null,
            "align_items": null,
            "bottom": null,
            "_model_module": "@jupyter-widgets/base",
            "top": null,
            "grid_column": null,
            "overflow_y": null,
            "overflow_x": null,
            "grid_auto_flow": null,
            "grid_area": null,
            "grid_template_columns": null,
            "flex": null,
            "_model_name": "LayoutModel",
            "justify_items": null,
            "grid_row": null,
            "max_height": null,
            "align_content": null,
            "visibility": null,
            "align_self": null,
            "height": null,
            "min_height": null,
            "padding": null,
            "grid_auto_rows": null,
            "grid_gap": null,
            "max_width": null,
            "order": null,
            "_view_module_version": "1.2.0",
            "grid_template_areas": null,
            "object_position": null,
            "object_fit": null,
            "grid_auto_columns": null,
            "margin": null,
            "display": null,
            "left": null
          }
        },
        "da9730ea70404cd2beb8adf6847e626c": {
          "model_module": "@jupyter-widgets/controls",
          "model_name": "HTMLModel",
          "state": {
            "_view_name": "HTMLView",
            "style": "IPY_MODEL_c6aecaa66c28441e91eb7bfd3f10a80c",
            "_dom_classes": [],
            "description": "",
            "_model_name": "HTMLModel",
            "placeholder": "​",
            "_view_module": "@jupyter-widgets/controls",
            "_model_module_version": "1.5.0",
            "value": "Export report to file: 100%",
            "_view_count": null,
            "_view_module_version": "1.5.0",
            "description_tooltip": null,
            "_model_module": "@jupyter-widgets/controls",
            "layout": "IPY_MODEL_9eb5431518fb44798770f5976e8268af"
          }
        },
        "3992098c8e304eebacb0beaf62956380": {
          "model_module": "@jupyter-widgets/controls",
          "model_name": "FloatProgressModel",
          "state": {
            "_view_name": "ProgressView",
            "style": "IPY_MODEL_5ffd8f058fc5435198aa19047936f812",
            "_dom_classes": [],
            "description": "",
            "_model_name": "FloatProgressModel",
            "bar_style": "success",
            "max": 1,
            "_view_module": "@jupyter-widgets/controls",
            "_model_module_version": "1.5.0",
            "value": 1,
            "_view_count": null,
            "_view_module_version": "1.5.0",
            "orientation": "horizontal",
            "min": 0,
            "description_tooltip": null,
            "_model_module": "@jupyter-widgets/controls",
            "layout": "IPY_MODEL_79dfb962b569457dbe1c857b593100ba"
          }
        },
        "a2a341a9cbaf4c9d9f0c1ee63ee08eb8": {
          "model_module": "@jupyter-widgets/controls",
          "model_name": "HTMLModel",
          "state": {
            "_view_name": "HTMLView",
            "style": "IPY_MODEL_bc131599068b440d85fffd5b84fac61f",
            "_dom_classes": [],
            "description": "",
            "_model_name": "HTMLModel",
            "placeholder": "​",
            "_view_module": "@jupyter-widgets/controls",
            "_model_module_version": "1.5.0",
            "value": " 1/1 [00:00&lt;00:00, 10.82it/s]",
            "_view_count": null,
            "_view_module_version": "1.5.0",
            "description_tooltip": null,
            "_model_module": "@jupyter-widgets/controls",
            "layout": "IPY_MODEL_7dcea1d3b89c4e5aaee2721d06430a1b"
          }
        },
        "c6aecaa66c28441e91eb7bfd3f10a80c": {
          "model_module": "@jupyter-widgets/controls",
          "model_name": "DescriptionStyleModel",
          "state": {
            "_view_name": "StyleView",
            "_model_name": "DescriptionStyleModel",
            "description_width": "",
            "_view_module": "@jupyter-widgets/base",
            "_model_module_version": "1.5.0",
            "_view_count": null,
            "_view_module_version": "1.2.0",
            "_model_module": "@jupyter-widgets/controls"
          }
        },
        "9eb5431518fb44798770f5976e8268af": {
          "model_module": "@jupyter-widgets/base",
          "model_name": "LayoutModel",
          "state": {
            "_view_name": "LayoutView",
            "grid_template_rows": null,
            "right": null,
            "justify_content": null,
            "_view_module": "@jupyter-widgets/base",
            "overflow": null,
            "_model_module_version": "1.2.0",
            "_view_count": null,
            "flex_flow": null,
            "width": null,
            "min_width": null,
            "border": null,
            "align_items": null,
            "bottom": null,
            "_model_module": "@jupyter-widgets/base",
            "top": null,
            "grid_column": null,
            "overflow_y": null,
            "overflow_x": null,
            "grid_auto_flow": null,
            "grid_area": null,
            "grid_template_columns": null,
            "flex": null,
            "_model_name": "LayoutModel",
            "justify_items": null,
            "grid_row": null,
            "max_height": null,
            "align_content": null,
            "visibility": null,
            "align_self": null,
            "height": null,
            "min_height": null,
            "padding": null,
            "grid_auto_rows": null,
            "grid_gap": null,
            "max_width": null,
            "order": null,
            "_view_module_version": "1.2.0",
            "grid_template_areas": null,
            "object_position": null,
            "object_fit": null,
            "grid_auto_columns": null,
            "margin": null,
            "display": null,
            "left": null
          }
        },
        "5ffd8f058fc5435198aa19047936f812": {
          "model_module": "@jupyter-widgets/controls",
          "model_name": "ProgressStyleModel",
          "state": {
            "_view_name": "StyleView",
            "_model_name": "ProgressStyleModel",
            "description_width": "",
            "_view_module": "@jupyter-widgets/base",
            "_model_module_version": "1.5.0",
            "_view_count": null,
            "_view_module_version": "1.2.0",
            "bar_color": null,
            "_model_module": "@jupyter-widgets/controls"
          }
        },
        "79dfb962b569457dbe1c857b593100ba": {
          "model_module": "@jupyter-widgets/base",
          "model_name": "LayoutModel",
          "state": {
            "_view_name": "LayoutView",
            "grid_template_rows": null,
            "right": null,
            "justify_content": null,
            "_view_module": "@jupyter-widgets/base",
            "overflow": null,
            "_model_module_version": "1.2.0",
            "_view_count": null,
            "flex_flow": null,
            "width": null,
            "min_width": null,
            "border": null,
            "align_items": null,
            "bottom": null,
            "_model_module": "@jupyter-widgets/base",
            "top": null,
            "grid_column": null,
            "overflow_y": null,
            "overflow_x": null,
            "grid_auto_flow": null,
            "grid_area": null,
            "grid_template_columns": null,
            "flex": null,
            "_model_name": "LayoutModel",
            "justify_items": null,
            "grid_row": null,
            "max_height": null,
            "align_content": null,
            "visibility": null,
            "align_self": null,
            "height": null,
            "min_height": null,
            "padding": null,
            "grid_auto_rows": null,
            "grid_gap": null,
            "max_width": null,
            "order": null,
            "_view_module_version": "1.2.0",
            "grid_template_areas": null,
            "object_position": null,
            "object_fit": null,
            "grid_auto_columns": null,
            "margin": null,
            "display": null,
            "left": null
          }
        },
        "bc131599068b440d85fffd5b84fac61f": {
          "model_module": "@jupyter-widgets/controls",
          "model_name": "DescriptionStyleModel",
          "state": {
            "_view_name": "StyleView",
            "_model_name": "DescriptionStyleModel",
            "description_width": "",
            "_view_module": "@jupyter-widgets/base",
            "_model_module_version": "1.5.0",
            "_view_count": null,
            "_view_module_version": "1.2.0",
            "_model_module": "@jupyter-widgets/controls"
          }
        },
        "7dcea1d3b89c4e5aaee2721d06430a1b": {
          "model_module": "@jupyter-widgets/base",
          "model_name": "LayoutModel",
          "state": {
            "_view_name": "LayoutView",
            "grid_template_rows": null,
            "right": null,
            "justify_content": null,
            "_view_module": "@jupyter-widgets/base",
            "overflow": null,
            "_model_module_version": "1.2.0",
            "_view_count": null,
            "flex_flow": null,
            "width": null,
            "min_width": null,
            "border": null,
            "align_items": null,
            "bottom": null,
            "_model_module": "@jupyter-widgets/base",
            "top": null,
            "grid_column": null,
            "overflow_y": null,
            "overflow_x": null,
            "grid_auto_flow": null,
            "grid_area": null,
            "grid_template_columns": null,
            "flex": null,
            "_model_name": "LayoutModel",
            "justify_items": null,
            "grid_row": null,
            "max_height": null,
            "align_content": null,
            "visibility": null,
            "align_self": null,
            "height": null,
            "min_height": null,
            "padding": null,
            "grid_auto_rows": null,
            "grid_gap": null,
            "max_width": null,
            "order": null,
            "_view_module_version": "1.2.0",
            "grid_template_areas": null,
            "object_position": null,
            "object_fit": null,
            "grid_auto_columns": null,
            "margin": null,
            "display": null,
            "left": null
          }
        }
      }
    }
  },
  "cells": [
    {
      "cell_type": "markdown",
      "metadata": {
        "id": "H6D2Gd6Xg13I"
      },
      "source": [
        "Inicjalizacja środowiska Google Colab\n",
        "\n",
        "*Wykonaj tylko raz, nie resetuje się wraz ze zmiennymi środowiskowymi*\n"
      ]
    },
    {
      "cell_type": "code",
      "metadata": {
        "id": "5FYq0GMb2bHB",
        "colab": {
          "base_uri": "https://localhost:8080/",
          "height": 102
        },
        "outputId": "4428b628-f075-479b-aa93-39d41fed7615"
      },
      "source": [
        "!apt-get install mysql-server > /dev/null\n",
        "!service mysql start\n",
        "!mysql -e \"ALTER USER 'root'@'localhost' IDENTIFIED WITH mysql_native_password BY 'root'\"\n",
        "!pip -q install PyMySQL\n",
        "\n",
        "from sqlalchemy import create_engine\n",
        "\n",
        "engine = create_engine(\"mysql+pymysql://root:root@/\")\n",
        "engine.execute(\"CREATE DATABASE car_rental\") #create db\n",
        "engine.execute(\"USE car_rental\") # select new db"
      ],
      "execution_count": null,
      "outputs": [
        {
          "output_type": "stream",
          "text": [
            " * Starting MySQL database server mysqld\n",
            "No directory, logging in with HOME=/\n",
            "   ...done.\n",
            "\u001b[K     |████████████████████████████████| 51kB 1.5MB/s \n",
            "\u001b[?25h"
          ],
          "name": "stdout"
        },
        {
          "output_type": "execute_result",
          "data": {
            "text/plain": [
              "<sqlalchemy.engine.result.ResultProxy at 0x7f1fb664b748>"
            ]
          },
          "metadata": {
            "tags": []
          },
          "execution_count": 1
        }
      ]
    },
    {
      "cell_type": "markdown",
      "metadata": {
        "id": "nISRAamchb4t"
      },
      "source": [
        "Pierwszy blok zadaniowy\n",
        "\n",
        "Stwórz tabele *cars, clients, bookings* według wytycznych(bez relacji):\n",
        "\n",
        "*   cars: car_id(int, pk), producer(str), model(str), year(int), horse_power(int), price_per_day(int)\n",
        "*   clients: client_id(int, pk), name(str), surname(str), address(str), city(str)\n",
        "*   bookings: booking_id(int, pk), client_id(int), car_id(int), start_date(date), end_date(date), total_amount(int)"
      ]
    },
    {
      "cell_type": "code",
      "metadata": {
        "id": "nTHydusa1uNg",
        "colab": {
          "base_uri": "https://localhost:8080/",
          "height": 377
        },
        "outputId": "9bb14b2f-1fa9-4613-b4c7-671e9614391e"
      },
      "source": [
        "from sqlalchemy import create_engine\n",
        "from sqlalchemy.ext.declarative import declarative_base\n",
        "from sqlalchemy import Column, String, Integer, Date\n",
        "\n",
        "eng = create_engine(\"mysql+pymysql://root:root@/car_rental\", echo = True)\n",
        "\n",
        "base = declarative_base()\n",
        "\n",
        "class Cars(base):\n",
        "   __tablename__ = 'cars'\n",
        "\n",
        "   car_id = Column(Integer, primary_key=True, autoincrement=True)\n",
        "   producer = Column(String(30), nullable=False)\n",
        "   model = Column(String(30), nullable=False)\n",
        "   year = Column(Integer, nullable=False)\n",
        "   horse_power = Column(Integer, nullable=False)\n",
        "   price_per_day = Column(Integer, nullable=False)\n",
        "\n",
        "class Clients(base):\n",
        "    __tablename__ = 'clients'\n",
        "\n",
        "    client_id = Column(Integer, primary_key=True, autoincrement=True)\n",
        "    name = Column(String(30), nullable=False)\n",
        "    surname = Column(String(30), nullable=False)\n",
        "    address = Column(String(30), nullable=False)\n",
        "    city = Column(String(30), nullable=False)\n",
        "\n",
        "class Bookings(base):\n",
        "    __tablename__ = 'bookings'\n",
        "\n",
        "    booking_id = Column(Integer, primary_key=True, autoincrement=True)\n",
        "    client_id = Column(Integer, nullable=False)\n",
        "    car_id = Column(Integer, nullable=False)\n",
        "    start_date = Column(Date, nullable=False)\n",
        "    end_date = Column(Date, nullable=False)\n",
        "    total_amount = Column(Integer, nullable=False)\n",
        "\n",
        "base.metadata.create_all(eng)"
      ],
      "execution_count": null,
      "outputs": [
        {
          "output_type": "stream",
          "text": [
            "2020-10-16 22:50:43,229 INFO sqlalchemy.engine.base.Engine SHOW VARIABLES LIKE 'sql_mode'\n",
            "2020-10-16 22:50:43,230 INFO sqlalchemy.engine.base.Engine {}\n",
            "2020-10-16 22:50:43,236 INFO sqlalchemy.engine.base.Engine SHOW VARIABLES LIKE 'lower_case_table_names'\n",
            "2020-10-16 22:50:43,237 INFO sqlalchemy.engine.base.Engine {}\n",
            "2020-10-16 22:50:43,244 INFO sqlalchemy.engine.base.Engine SELECT DATABASE()\n",
            "2020-10-16 22:50:43,246 INFO sqlalchemy.engine.base.Engine {}\n",
            "2020-10-16 22:50:43,249 INFO sqlalchemy.engine.base.Engine show collation where `Charset` = 'utf8mb4' and `Collation` = 'utf8mb4_bin'\n",
            "2020-10-16 22:50:43,250 INFO sqlalchemy.engine.base.Engine {}\n",
            "2020-10-16 22:50:43,254 INFO sqlalchemy.engine.base.Engine SELECT CAST('test plain returns' AS CHAR(60)) AS anon_1\n",
            "2020-10-16 22:50:43,255 INFO sqlalchemy.engine.base.Engine {}\n",
            "2020-10-16 22:50:43,258 INFO sqlalchemy.engine.base.Engine SELECT CAST('test unicode returns' AS CHAR(60)) AS anon_1\n",
            "2020-10-16 22:50:43,259 INFO sqlalchemy.engine.base.Engine {}\n",
            "2020-10-16 22:50:43,261 INFO sqlalchemy.engine.base.Engine SELECT CAST('test collated returns' AS CHAR CHARACTER SET utf8mb4) COLLATE utf8mb4_bin AS anon_1\n",
            "2020-10-16 22:50:43,263 INFO sqlalchemy.engine.base.Engine {}\n",
            "2020-10-16 22:50:43,266 INFO sqlalchemy.engine.base.Engine DESCRIBE `cars`\n",
            "2020-10-16 22:50:43,266 INFO sqlalchemy.engine.base.Engine {}\n",
            "2020-10-16 22:50:43,270 INFO sqlalchemy.engine.base.Engine DESCRIBE `clients`\n",
            "2020-10-16 22:50:43,271 INFO sqlalchemy.engine.base.Engine {}\n",
            "2020-10-16 22:50:43,274 INFO sqlalchemy.engine.base.Engine DESCRIBE `bookings`\n",
            "2020-10-16 22:50:43,275 INFO sqlalchemy.engine.base.Engine {}\n"
          ],
          "name": "stdout"
        }
      ]
    },
    {
      "cell_type": "markdown",
      "metadata": {
        "id": "a2MSjQgHlDQx"
      },
      "source": [
        "To samo zadanie można wykonać za pomocą odpowiednich zapytań SQLa:"
      ]
    },
    {
      "cell_type": "code",
      "metadata": {
        "id": "KpsxSoxfh8hb",
        "colab": {
          "base_uri": "https://localhost:8080/",
          "height": 258
        },
        "outputId": "e9875542-4acf-4b3a-9aa4-0ab3558da1ae"
      },
      "source": [
        "sql_statement = 'CREATE TABLE sql_booking(booking_id INTEGER PRIMARY KEY,' \\\n",
        "'client_id INTEGER,car_id INTEGER,start_date DATE,end_date DATE,total_amount INTEGER);'\n",
        "\n",
        "eng.execute(sql_statement)\n",
        "\n",
        "# Check\n",
        "result = eng.execute(\"SHOW TABLES;\")\n",
        "for description in result:\n",
        "    print(description)\n",
        "\n",
        "sql_statement = 'DROP TABLE sql_booking'\n",
        "eng.execute(sql_statement)"
      ],
      "execution_count": null,
      "outputs": [
        {
          "output_type": "stream",
          "text": [
            "2020-10-16 22:45:54,704 INFO sqlalchemy.engine.base.Engine CREATE TABLE sql_booking(booking_id INTEGER PRIMARY KEY,client_id INTEGER,car_id INTEGER,start_date DATE,end_date DATE,total_amount INTEGER);\n",
            "2020-10-16 22:45:54,705 INFO sqlalchemy.engine.base.Engine {}\n",
            "2020-10-16 22:45:54,742 INFO sqlalchemy.engine.base.Engine COMMIT\n",
            "2020-10-16 22:45:54,744 INFO sqlalchemy.engine.base.Engine SHOW TABLES;\n",
            "2020-10-16 22:45:54,745 INFO sqlalchemy.engine.base.Engine {}\n",
            "('bookings',)\n",
            "('cars',)\n",
            "('clients',)\n",
            "('sql_booking',)\n",
            "2020-10-16 22:45:54,751 INFO sqlalchemy.engine.base.Engine DROP TABLE sql_booking\n",
            "2020-10-16 22:45:54,752 INFO sqlalchemy.engine.base.Engine {}\n",
            "2020-10-16 22:45:54,774 INFO sqlalchemy.engine.base.Engine COMMIT\n"
          ],
          "name": "stdout"
        },
        {
          "output_type": "execute_result",
          "data": {
            "text/plain": [
              "<sqlalchemy.engine.result.ResultProxy at 0x7f1fae45c588>"
            ]
          },
          "metadata": {
            "tags": []
          },
          "execution_count": 24
        }
      ]
    },
    {
      "cell_type": "markdown",
      "metadata": {
        "id": "paP2CpQrnOzn"
      },
      "source": [
        "Kolejne zadanie to dodanie kilku instancji do naszej tabeli"
      ]
    },
    {
      "cell_type": "code",
      "metadata": {
        "id": "xR7voe8yAc81",
        "colab": {
          "base_uri": "https://localhost:8080/",
          "height": 139
        },
        "outputId": "ef97804d-475e-42f2-e6ca-b2cdd60636a6"
      },
      "source": [
        "from sqlalchemy.orm import sessionmaker\n",
        "\n",
        "Session = sessionmaker(bind=eng)\n",
        "session = Session()\n",
        "client_1 = Clients(name='Jan', surname='Kowalski', address='ul. Florianska 12', city='Krakow')\n",
        "car_1 = Cars(producer='Seat', model='Leon', year=2016, horse_power=80, price_per_day=200)\n",
        "\n",
        "session.add(client_1)\n",
        "session.add(car_1)\n",
        "session.commit()"
      ],
      "execution_count": null,
      "outputs": [
        {
          "output_type": "stream",
          "text": [
            "2020-10-16 22:43:06,932 INFO sqlalchemy.engine.base.Engine BEGIN (implicit)\n",
            "2020-10-16 22:43:06,935 INFO sqlalchemy.engine.base.Engine INSERT INTO cars (producer, model, year, horse_power, price_per_day) VALUES (%(producer)s, %(model)s, %(year)s, %(horse_power)s, %(price_per_day)s)\n",
            "2020-10-16 22:43:06,936 INFO sqlalchemy.engine.base.Engine {'producer': 'Seat', 'model': 'Leon', 'year': 2016, 'horse_power': 80, 'price_per_day': 200}\n",
            "2020-10-16 22:43:06,944 INFO sqlalchemy.engine.base.Engine INSERT INTO clients (name, surname, address, city) VALUES (%(name)s, %(surname)s, %(address)s, %(city)s)\n",
            "2020-10-16 22:43:06,955 INFO sqlalchemy.engine.base.Engine {'name': 'Jan', 'surname': 'Kowalski', 'address': 'ul. Florianska 12', 'city': 'Krakow'}\n",
            "2020-10-16 22:43:06,959 INFO sqlalchemy.engine.base.Engine COMMIT\n"
          ],
          "name": "stdout"
        }
      ]
    },
    {
      "cell_type": "markdown",
      "metadata": {
        "id": "K2l_QxvWnUNE"
      },
      "source": [
        "W kolejnym należy wyświetlić zawartość poszczególnych tabel"
      ]
    },
    {
      "cell_type": "code",
      "metadata": {
        "id": "wIZkw5NrAj9w",
        "colab": {
          "base_uri": "https://localhost:8080/",
          "height": 224
        },
        "outputId": "311e9cb5-a4c1-4a2a-db96-3cfc5e76c9cc"
      },
      "source": [
        "from sqlalchemy.orm import sessionmaker\n",
        "\n",
        "Session = sessionmaker(bind=eng)\n",
        "session = Session()\n",
        "\n",
        "for client in session.query(Clients).all():\n",
        "    print(client)\n",
        "\n",
        "for car in session.query(Cars).all():\n",
        "    print(car)\n"
      ],
      "execution_count": null,
      "outputs": [
        {
          "output_type": "stream",
          "text": [
            "2020-10-16 22:51:43,926 INFO sqlalchemy.engine.base.Engine BEGIN (implicit)\n",
            "2020-10-16 22:51:43,928 INFO sqlalchemy.engine.base.Engine SELECT clients.client_id AS clients_client_id, clients.name AS clients_name, clients.surname AS clients_surname, clients.address AS clients_address, clients.city AS clients_city \n",
            "FROM clients\n",
            "2020-10-16 22:51:43,930 INFO sqlalchemy.engine.base.Engine {}\n",
            "<__main__.Clients object at 0x7f1fae463d30>\n",
            "<__main__.Clients object at 0x7f1fae463c50>\n",
            "2020-10-16 22:51:43,935 INFO sqlalchemy.engine.base.Engine SELECT cars.car_id AS cars_car_id, cars.producer AS cars_producer, cars.model AS cars_model, cars.year AS cars_year, cars.horse_power AS cars_horse_power, cars.price_per_day AS cars_price_per_day \n",
            "FROM cars\n",
            "2020-10-16 22:51:43,936 INFO sqlalchemy.engine.base.Engine {}\n",
            "<Car: id=1, producer=Seat,model=Leon, year=2016,horse_power=80, price_per_day=200>\n",
            "<Car: id=2, producer=Seat,model=Leon, year=2016,horse_power=80, price_per_day=200>\n"
          ],
          "name": "stdout"
        }
      ]
    },
    {
      "cell_type": "markdown",
      "metadata": {
        "id": "yWIUOIQYneJb"
      },
      "source": [
        "W celu zwiększenia czytelności warto zdefiniować reprezentację stringową naszych obiektów."
      ]
    },
    {
      "cell_type": "code",
      "metadata": {
        "id": "73u59pQXnFxl",
        "colab": {
          "base_uri": "https://localhost:8080/",
          "height": 377
        },
        "outputId": "b41c8a9e-66fd-4a75-84ae-406240734b29"
      },
      "source": [
        "from sqlalchemy import create_engine\n",
        "from sqlalchemy.ext.declarative import declarative_base\n",
        "from sqlalchemy import Column, String, Integer, Date\n",
        "\n",
        "eng = create_engine(\"mysql+pymysql://root:root@/car_rental\", echo = True)\n",
        "\n",
        "base = declarative_base()\n",
        "\n",
        "class Cars(base):\n",
        "   __tablename__ = 'cars'\n",
        "\n",
        "   car_id = Column(Integer, primary_key=True, autoincrement=True)\n",
        "   producer = Column(String(30), nullable=False)\n",
        "   model = Column(String(30), nullable=False)\n",
        "   year = Column(Integer, nullable=False)\n",
        "   horse_power = Column(Integer, nullable=False)\n",
        "   price_per_day = Column(Integer, nullable=False)\n",
        "\n",
        "   def __repr__(self):\n",
        "       return f'<Car: id={self.car_id}, producer={self.producer},' \\\n",
        "              f'model={self.model}, year={self.year},' \\\n",
        "              f'horse_power={self.horse_power}, price_per_day={self.price_per_day}>'\n",
        "\n",
        "\n",
        "class Clients(base):\n",
        "    __tablename__ = 'clients'\n",
        "\n",
        "    client_id = Column(Integer, primary_key=True, autoincrement=True)\n",
        "    name = Column(String(30), nullable=False)\n",
        "    surname = Column(String(30), nullable=False)\n",
        "    address = Column(String(30), nullable=False)\n",
        "    city = Column(String(30), nullable=False)\n",
        "\n",
        "class Bookings(base):\n",
        "    __tablename__ = 'bookings'\n",
        "\n",
        "    booking_id = Column(Integer, primary_key=True, autoincrement=True)\n",
        "    client_id = Column(Integer, nullable=False)\n",
        "    car_id = Column(Integer, nullable=False)\n",
        "    start_date = Column(Date, nullable=False)\n",
        "    end_date = Column(Date, nullable=False)\n",
        "    total_amount = Column(Integer, nullable=False)\n",
        "\n",
        "base.metadata.create_all(eng)"
      ],
      "execution_count": null,
      "outputs": [
        {
          "output_type": "stream",
          "text": [
            "2020-10-16 22:51:48,168 INFO sqlalchemy.engine.base.Engine SHOW VARIABLES LIKE 'sql_mode'\n",
            "2020-10-16 22:51:48,170 INFO sqlalchemy.engine.base.Engine {}\n",
            "2020-10-16 22:51:48,176 INFO sqlalchemy.engine.base.Engine SHOW VARIABLES LIKE 'lower_case_table_names'\n",
            "2020-10-16 22:51:48,178 INFO sqlalchemy.engine.base.Engine {}\n",
            "2020-10-16 22:51:48,182 INFO sqlalchemy.engine.base.Engine SELECT DATABASE()\n",
            "2020-10-16 22:51:48,183 INFO sqlalchemy.engine.base.Engine {}\n",
            "2020-10-16 22:51:48,185 INFO sqlalchemy.engine.base.Engine show collation where `Charset` = 'utf8mb4' and `Collation` = 'utf8mb4_bin'\n",
            "2020-10-16 22:51:48,188 INFO sqlalchemy.engine.base.Engine {}\n",
            "2020-10-16 22:51:48,191 INFO sqlalchemy.engine.base.Engine SELECT CAST('test plain returns' AS CHAR(60)) AS anon_1\n",
            "2020-10-16 22:51:48,192 INFO sqlalchemy.engine.base.Engine {}\n",
            "2020-10-16 22:51:48,195 INFO sqlalchemy.engine.base.Engine SELECT CAST('test unicode returns' AS CHAR(60)) AS anon_1\n",
            "2020-10-16 22:51:48,196 INFO sqlalchemy.engine.base.Engine {}\n",
            "2020-10-16 22:51:48,198 INFO sqlalchemy.engine.base.Engine SELECT CAST('test collated returns' AS CHAR CHARACTER SET utf8mb4) COLLATE utf8mb4_bin AS anon_1\n",
            "2020-10-16 22:51:48,199 INFO sqlalchemy.engine.base.Engine {}\n",
            "2020-10-16 22:51:48,201 INFO sqlalchemy.engine.base.Engine DESCRIBE `cars`\n",
            "2020-10-16 22:51:48,202 INFO sqlalchemy.engine.base.Engine {}\n",
            "2020-10-16 22:51:48,205 INFO sqlalchemy.engine.base.Engine DESCRIBE `clients`\n",
            "2020-10-16 22:51:48,206 INFO sqlalchemy.engine.base.Engine {}\n",
            "2020-10-16 22:51:48,210 INFO sqlalchemy.engine.base.Engine DESCRIBE `bookings`\n",
            "2020-10-16 22:51:48,210 INFO sqlalchemy.engine.base.Engine {}\n"
          ],
          "name": "stdout"
        }
      ]
    },
    {
      "cell_type": "markdown",
      "metadata": {
        "id": "g0SlI_ccnxec"
      },
      "source": [
        "Teraz uzyskamy troszkę bardziej czytelne wyniki:\n",
        "\n",
        "Przy okazji w taki sposób można wykorzystać select"
      ]
    },
    {
      "cell_type": "code",
      "metadata": {
        "id": "fNbj5SkXnuz7",
        "colab": {
          "base_uri": "https://localhost:8080/",
          "height": 258
        },
        "outputId": "87825562-dccd-4d18-a41d-9f70140a6871"
      },
      "source": [
        "from sqlalchemy.orm import sessionmaker\n",
        "from sqlalchemy import select\n",
        "\n",
        "Session = sessionmaker(bind=eng)\n",
        "session = Session()\n",
        "\n",
        "s = select([Clients]) # Make sql_statement\n",
        "print(s)\n",
        "\n",
        "for row in eng.execute(s):\n",
        "\tprint(row)\n",
        "\n",
        "for car in session.query(Cars).all():\n",
        "    print(car)"
      ],
      "execution_count": null,
      "outputs": [
        {
          "output_type": "stream",
          "text": [
            "SELECT clients.client_id, clients.name, clients.surname, clients.address, clients.city \n",
            "FROM clients\n",
            "2020-10-16 22:57:26,251 INFO sqlalchemy.engine.base.Engine SELECT clients.client_id, clients.name, clients.surname, clients.address, clients.city \n",
            "FROM clients\n",
            "2020-10-16 22:57:26,252 INFO sqlalchemy.engine.base.Engine {}\n",
            "(1, 'Jan', 'Kowalski', 'ul. Florianska 12', 'Krakow')\n",
            "(2, 'Jan', 'Kowalski', 'ul. Florianska 12', 'Krakow')\n",
            "2020-10-16 22:57:26,257 INFO sqlalchemy.engine.base.Engine BEGIN (implicit)\n",
            "2020-10-16 22:57:26,259 INFO sqlalchemy.engine.base.Engine SELECT cars.car_id AS cars_car_id, cars.producer AS cars_producer, cars.model AS cars_model, cars.year AS cars_year, cars.horse_power AS cars_horse_power, cars.price_per_day AS cars_price_per_day \n",
            "FROM cars\n",
            "2020-10-16 22:57:26,261 INFO sqlalchemy.engine.base.Engine {}\n",
            "<Car: id=1, producer=Seat,model=Leon, year=2016,horse_power=80, price_per_day=200>\n",
            "<Car: id=2, producer=Seat,model=Leon, year=2016,horse_power=80, price_per_day=200>\n"
          ],
          "name": "stdout"
        }
      ]
    },
    {
      "cell_type": "markdown",
      "metadata": {
        "id": "pUbGd_LapBE5"
      },
      "source": [
        "Stwórzmy teraz możliwość dodawania dużej ilośc danych poprzez funkcje insert_data"
      ]
    },
    {
      "cell_type": "code",
      "metadata": {
        "id": "LpXXR6N1pAQa",
        "colab": {
          "base_uri": "https://localhost:8080/",
          "height": 1000
        },
        "outputId": "69904a83-47af-4d9b-92fa-a8ee24880dff"
      },
      "source": [
        "def insert_data(session, base, params):\n",
        "    session.add(base(**params))\n",
        "    session.commit()\n",
        "\n",
        "clients = [\n",
        "    {'name': 'Jan', 'surname': 'Kowalski', 'address': 'ul. Florianska 12', 'city': 'Krakow'},\n",
        "    {'name': 'Andrzej', 'surname': 'Nowak', 'address': 'ul. Saska 43', 'city': 'Wroclaw'},\n",
        "    {'name': 'Michal', 'surname': 'Taki', 'address': 'os. Srodkowe 12', 'city': 'Poznan'},\n",
        "    {'name': 'Pawel', 'surname': 'Ktory', 'address': 'ul. Stara 11', 'city': 'Gdynia'},\n",
        "    {'name': 'Anna', 'surname': 'Inna', 'address': 'os. Srednie 1', 'city': 'Gniezno'},\n",
        "    {'name': 'Alicja', 'surname': 'Panna', 'address': 'os. Duze 33', 'city': 'Torun'},\n",
        "    {'name': 'Damian', 'surname': 'Papa', 'address': 'ul. Skosna 66', 'city': 'Warszawa'},\n",
        "    {'name': 'Marek', 'surname': 'Troska', 'address': 'os. Male 90', 'city': 'Radom'},\n",
        "    {'name': 'Jakub', 'surname': 'Klos', 'address': 'os. Polskie 19', 'city': 'Wadowice'},\n",
        "    {'name': 'Lukasz', 'surname': 'Lis', 'address': 'os. Podlaskie 90', 'city': 'Bialystok'}]\n",
        "cars = [\n",
        "    {'producer': 'Seat', 'model': 'Leon', 'year': 2016, 'horse_power': 80, 'price_per_day': 200},\n",
        "    {'producer': 'Toyota', 'model': 'Avensis', 'year': 2014, 'horse_power': 72, 'price_per_day': 100},\n",
        "    {'producer': 'Mercedes', 'model': 'CLK', 'year': 2018, 'horse_power': 190, 'price_per_day': 400},\n",
        "    {'producer': 'Hyundai', 'model': 'Coupe', 'year': 2014, 'horse_power': 165, 'price_per_day': 300},\n",
        "    {'producer': 'Dacia', 'model': 'Logan', 'year': 2015, 'horse_power': 103, 'price_per_day': 150},\n",
        "    {'producer': 'Saab', 'model': '95', 'year': 2012, 'horse_power': 140, 'price_per_day': 140},\n",
        "    {'producer': 'BMW', 'model': 'E36', 'year': 2007, 'horse_power': 110, 'price_per_day': 80},\n",
        "    {'producer': 'Fiat', 'model': 'Panda', 'year': 2016, 'horse_power': 77, 'price_per_day': 190},\n",
        "    {'producer': 'Honda', 'model': 'Civic', 'year': 2019, 'horse_power': 130, 'price_per_day': 360},\n",
        "    {'producer': 'Volvo', 'model': 'XC70', 'year': 2013, 'horse_power': 180, 'price_per_day': 280}]\n",
        "bookings = [\n",
        "    {'client_id': 3, 'car_id': 3, 'start_date': '2020-07-06', 'end_date': '2020-07-08', 'total_amount': 400},\n",
        "    {'client_id': 6, 'car_id': 10, 'start_date': '2020-07-10', 'end_date': '2020-07-16', 'total_amount': 1680},\n",
        "    {'client_id': 4, 'car_id': 5, 'start_date': '2020-07-11', 'end_date': '2020-07-14', 'total_amount': 450},\n",
        "    {'client_id': 5, 'car_id': 4, 'start_date': '2020-07-11', 'end_date': '2020-07-13', 'total_amount': 600},\n",
        "    {'client_id': 7, 'car_id': 3, 'start_date': '2020-07-12', 'end_date': '2020-07-14', 'total_amount': 800},\n",
        "    {'client_id': 5, 'car_id': 7, 'start_date': '2020-07-14', 'end_date': '2020-07-17', 'total_amount': 240},\n",
        "    {'client_id': 3, 'car_id': 8, 'start_date': '2020-07-14', 'end_date': '2020-07-16', 'total_amount': 380},\n",
        "    {'client_id': 5, 'car_id': 9, 'start_date': '2020-07-15', 'end_date': '2020-07-18', 'total_amount': 1080},\n",
        "    {'client_id': 6, 'car_id': 10, 'start_date': '2020-07-16', 'end_date': '2020-07-20', 'total_amount': 1120},\n",
        "    {'client_id': 8, 'car_id': 1, 'start_date': '2020-07-16', 'end_date': '2020-07-19', 'total_amount': 600},\n",
        "    {'client_id': 9, 'car_id': 2, 'start_date': '2020-07-16', 'end_date': '2020-07-21', 'total_amount': 500},\n",
        "    {'client_id': 10, 'car_id': 6, 'start_date': '2020-07-17', 'end_date': '2020-07-19', 'total_amount': 280},\n",
        "    {'client_id': 1, 'car_id': 9, 'start_date': '2020-07-17', 'end_date': '2020-07-19', 'total_amount': 720},\n",
        "    {'client_id': 3, 'car_id': 7, 'start_date': '2020-07-18', 'end_date': '2020-07-21', 'total_amount': 240},\n",
        "    {'client_id': 5, 'car_id': 4, 'start_date': '2020-07-18', 'end_date': '2020-07-22', 'total_amount': 1200}]\n",
        "\n",
        "for client in clients:\n",
        "    insert_data(session, Clients, client)\n",
        "for car in cars:\n",
        "    insert_data(session, Cars, car)\n",
        "for booking in bookings:\n",
        "    insert_data(session, Bookings, booking)"
      ],
      "execution_count": null,
      "outputs": [
        {
          "output_type": "stream",
          "text": [
            "2020-10-16 23:00:51,022 INFO sqlalchemy.engine.base.Engine INSERT INTO clients (name, surname, address, city) VALUES (%(name)s, %(surname)s, %(address)s, %(city)s)\n",
            "2020-10-16 23:00:51,025 INFO sqlalchemy.engine.base.Engine {'name': 'Jan', 'surname': 'Kowalski', 'address': 'ul. Florianska 12', 'city': 'Krakow'}\n",
            "2020-10-16 23:00:51,029 INFO sqlalchemy.engine.base.Engine COMMIT\n",
            "2020-10-16 23:00:51,039 INFO sqlalchemy.engine.base.Engine BEGIN (implicit)\n",
            "2020-10-16 23:00:51,043 INFO sqlalchemy.engine.base.Engine INSERT INTO clients (name, surname, address, city) VALUES (%(name)s, %(surname)s, %(address)s, %(city)s)\n",
            "2020-10-16 23:00:51,044 INFO sqlalchemy.engine.base.Engine {'name': 'Andrzej', 'surname': 'Nowak', 'address': 'ul. Saska 43', 'city': 'Wroclaw'}\n",
            "2020-10-16 23:00:51,047 INFO sqlalchemy.engine.base.Engine COMMIT\n",
            "2020-10-16 23:00:51,057 INFO sqlalchemy.engine.base.Engine BEGIN (implicit)\n",
            "2020-10-16 23:00:51,058 INFO sqlalchemy.engine.base.Engine INSERT INTO clients (name, surname, address, city) VALUES (%(name)s, %(surname)s, %(address)s, %(city)s)\n",
            "2020-10-16 23:00:51,059 INFO sqlalchemy.engine.base.Engine {'name': 'Michal', 'surname': 'Taki', 'address': 'os. Srodkowe 12', 'city': 'Poznan'}\n",
            "2020-10-16 23:00:51,061 INFO sqlalchemy.engine.base.Engine COMMIT\n",
            "2020-10-16 23:00:51,070 INFO sqlalchemy.engine.base.Engine BEGIN (implicit)\n",
            "2020-10-16 23:00:51,071 INFO sqlalchemy.engine.base.Engine INSERT INTO clients (name, surname, address, city) VALUES (%(name)s, %(surname)s, %(address)s, %(city)s)\n",
            "2020-10-16 23:00:51,072 INFO sqlalchemy.engine.base.Engine {'name': 'Pawel', 'surname': 'Ktory', 'address': 'ul. Stara 11', 'city': 'Gdynia'}\n",
            "2020-10-16 23:00:51,075 INFO sqlalchemy.engine.base.Engine COMMIT\n",
            "2020-10-16 23:00:51,085 INFO sqlalchemy.engine.base.Engine BEGIN (implicit)\n",
            "2020-10-16 23:00:51,086 INFO sqlalchemy.engine.base.Engine INSERT INTO clients (name, surname, address, city) VALUES (%(name)s, %(surname)s, %(address)s, %(city)s)\n",
            "2020-10-16 23:00:51,086 INFO sqlalchemy.engine.base.Engine {'name': 'Anna', 'surname': 'Inna', 'address': 'os. Srednie 1', 'city': 'Gniezno'}\n",
            "2020-10-16 23:00:51,088 INFO sqlalchemy.engine.base.Engine COMMIT\n",
            "2020-10-16 23:00:51,098 INFO sqlalchemy.engine.base.Engine BEGIN (implicit)\n",
            "2020-10-16 23:00:51,100 INFO sqlalchemy.engine.base.Engine INSERT INTO clients (name, surname, address, city) VALUES (%(name)s, %(surname)s, %(address)s, %(city)s)\n",
            "2020-10-16 23:00:51,102 INFO sqlalchemy.engine.base.Engine {'name': 'Alicja', 'surname': 'Panna', 'address': 'os. Duze 33', 'city': 'Torun'}\n",
            "2020-10-16 23:00:51,105 INFO sqlalchemy.engine.base.Engine COMMIT\n",
            "2020-10-16 23:00:51,113 INFO sqlalchemy.engine.base.Engine BEGIN (implicit)\n",
            "2020-10-16 23:00:51,115 INFO sqlalchemy.engine.base.Engine INSERT INTO clients (name, surname, address, city) VALUES (%(name)s, %(surname)s, %(address)s, %(city)s)\n",
            "2020-10-16 23:00:51,117 INFO sqlalchemy.engine.base.Engine {'name': 'Damian', 'surname': 'Papa', 'address': 'ul. Skosna 66', 'city': 'Warszawa'}\n",
            "2020-10-16 23:00:51,120 INFO sqlalchemy.engine.base.Engine COMMIT\n",
            "2020-10-16 23:00:51,128 INFO sqlalchemy.engine.base.Engine BEGIN (implicit)\n",
            "2020-10-16 23:00:51,129 INFO sqlalchemy.engine.base.Engine INSERT INTO clients (name, surname, address, city) VALUES (%(name)s, %(surname)s, %(address)s, %(city)s)\n",
            "2020-10-16 23:00:51,131 INFO sqlalchemy.engine.base.Engine {'name': 'Marek', 'surname': 'Troska', 'address': 'os. Male 90', 'city': 'Radom'}\n",
            "2020-10-16 23:00:51,133 INFO sqlalchemy.engine.base.Engine COMMIT\n",
            "2020-10-16 23:00:51,143 INFO sqlalchemy.engine.base.Engine BEGIN (implicit)\n",
            "2020-10-16 23:00:51,145 INFO sqlalchemy.engine.base.Engine INSERT INTO clients (name, surname, address, city) VALUES (%(name)s, %(surname)s, %(address)s, %(city)s)\n",
            "2020-10-16 23:00:51,145 INFO sqlalchemy.engine.base.Engine {'name': 'Jakub', 'surname': 'Klos', 'address': 'os. Polskie 19', 'city': 'Wadowice'}\n",
            "2020-10-16 23:00:51,150 INFO sqlalchemy.engine.base.Engine COMMIT\n",
            "2020-10-16 23:00:51,157 INFO sqlalchemy.engine.base.Engine BEGIN (implicit)\n",
            "2020-10-16 23:00:51,159 INFO sqlalchemy.engine.base.Engine INSERT INTO clients (name, surname, address, city) VALUES (%(name)s, %(surname)s, %(address)s, %(city)s)\n",
            "2020-10-16 23:00:51,159 INFO sqlalchemy.engine.base.Engine {'name': 'Lukasz', 'surname': 'Lis', 'address': 'os. Podlaskie 90', 'city': 'Bialystok'}\n",
            "2020-10-16 23:00:51,166 INFO sqlalchemy.engine.base.Engine COMMIT\n",
            "2020-10-16 23:00:51,175 INFO sqlalchemy.engine.base.Engine BEGIN (implicit)\n",
            "2020-10-16 23:00:51,176 INFO sqlalchemy.engine.base.Engine INSERT INTO cars (producer, model, year, horse_power, price_per_day) VALUES (%(producer)s, %(model)s, %(year)s, %(horse_power)s, %(price_per_day)s)\n",
            "2020-10-16 23:00:51,179 INFO sqlalchemy.engine.base.Engine {'producer': 'Seat', 'model': 'Leon', 'year': 2016, 'horse_power': 80, 'price_per_day': 200}\n",
            "2020-10-16 23:00:51,185 INFO sqlalchemy.engine.base.Engine COMMIT\n",
            "2020-10-16 23:00:51,192 INFO sqlalchemy.engine.base.Engine BEGIN (implicit)\n",
            "2020-10-16 23:00:51,193 INFO sqlalchemy.engine.base.Engine INSERT INTO cars (producer, model, year, horse_power, price_per_day) VALUES (%(producer)s, %(model)s, %(year)s, %(horse_power)s, %(price_per_day)s)\n",
            "2020-10-16 23:00:51,195 INFO sqlalchemy.engine.base.Engine {'producer': 'Toyota', 'model': 'Avensis', 'year': 2014, 'horse_power': 72, 'price_per_day': 100}\n",
            "2020-10-16 23:00:51,198 INFO sqlalchemy.engine.base.Engine COMMIT\n",
            "2020-10-16 23:00:51,206 INFO sqlalchemy.engine.base.Engine BEGIN (implicit)\n",
            "2020-10-16 23:00:51,207 INFO sqlalchemy.engine.base.Engine INSERT INTO cars (producer, model, year, horse_power, price_per_day) VALUES (%(producer)s, %(model)s, %(year)s, %(horse_power)s, %(price_per_day)s)\n",
            "2020-10-16 23:00:51,211 INFO sqlalchemy.engine.base.Engine {'producer': 'Mercedes', 'model': 'CLK', 'year': 2018, 'horse_power': 190, 'price_per_day': 400}\n",
            "2020-10-16 23:00:51,214 INFO sqlalchemy.engine.base.Engine COMMIT\n",
            "2020-10-16 23:00:51,221 INFO sqlalchemy.engine.base.Engine BEGIN (implicit)\n",
            "2020-10-16 23:00:51,222 INFO sqlalchemy.engine.base.Engine INSERT INTO cars (producer, model, year, horse_power, price_per_day) VALUES (%(producer)s, %(model)s, %(year)s, %(horse_power)s, %(price_per_day)s)\n",
            "2020-10-16 23:00:51,223 INFO sqlalchemy.engine.base.Engine {'producer': 'Hyundai', 'model': 'Coupe', 'year': 2014, 'horse_power': 165, 'price_per_day': 300}\n",
            "2020-10-16 23:00:51,229 INFO sqlalchemy.engine.base.Engine COMMIT\n",
            "2020-10-16 23:00:51,236 INFO sqlalchemy.engine.base.Engine BEGIN (implicit)\n",
            "2020-10-16 23:00:51,238 INFO sqlalchemy.engine.base.Engine INSERT INTO cars (producer, model, year, horse_power, price_per_day) VALUES (%(producer)s, %(model)s, %(year)s, %(horse_power)s, %(price_per_day)s)\n",
            "2020-10-16 23:00:51,241 INFO sqlalchemy.engine.base.Engine {'producer': 'Dacia', 'model': 'Logan', 'year': 2015, 'horse_power': 103, 'price_per_day': 150}\n",
            "2020-10-16 23:00:51,247 INFO sqlalchemy.engine.base.Engine COMMIT\n",
            "2020-10-16 23:00:51,254 INFO sqlalchemy.engine.base.Engine BEGIN (implicit)\n",
            "2020-10-16 23:00:51,255 INFO sqlalchemy.engine.base.Engine INSERT INTO cars (producer, model, year, horse_power, price_per_day) VALUES (%(producer)s, %(model)s, %(year)s, %(horse_power)s, %(price_per_day)s)\n",
            "2020-10-16 23:00:51,256 INFO sqlalchemy.engine.base.Engine {'producer': 'Saab', 'model': '95', 'year': 2012, 'horse_power': 140, 'price_per_day': 140}\n",
            "2020-10-16 23:00:51,260 INFO sqlalchemy.engine.base.Engine COMMIT\n",
            "2020-10-16 23:00:51,267 INFO sqlalchemy.engine.base.Engine BEGIN (implicit)\n",
            "2020-10-16 23:00:51,269 INFO sqlalchemy.engine.base.Engine INSERT INTO cars (producer, model, year, horse_power, price_per_day) VALUES (%(producer)s, %(model)s, %(year)s, %(horse_power)s, %(price_per_day)s)\n",
            "2020-10-16 23:00:51,270 INFO sqlalchemy.engine.base.Engine {'producer': 'BMW', 'model': 'E36', 'year': 2007, 'horse_power': 110, 'price_per_day': 80}\n",
            "2020-10-16 23:00:51,273 INFO sqlalchemy.engine.base.Engine COMMIT\n",
            "2020-10-16 23:00:51,281 INFO sqlalchemy.engine.base.Engine BEGIN (implicit)\n",
            "2020-10-16 23:00:51,282 INFO sqlalchemy.engine.base.Engine INSERT INTO cars (producer, model, year, horse_power, price_per_day) VALUES (%(producer)s, %(model)s, %(year)s, %(horse_power)s, %(price_per_day)s)\n",
            "2020-10-16 23:00:51,283 INFO sqlalchemy.engine.base.Engine {'producer': 'Fiat', 'model': 'Panda', 'year': 2016, 'horse_power': 77, 'price_per_day': 190}\n",
            "2020-10-16 23:00:51,285 INFO sqlalchemy.engine.base.Engine COMMIT\n",
            "2020-10-16 23:00:51,294 INFO sqlalchemy.engine.base.Engine BEGIN (implicit)\n",
            "2020-10-16 23:00:51,295 INFO sqlalchemy.engine.base.Engine INSERT INTO cars (producer, model, year, horse_power, price_per_day) VALUES (%(producer)s, %(model)s, %(year)s, %(horse_power)s, %(price_per_day)s)\n",
            "2020-10-16 23:00:51,295 INFO sqlalchemy.engine.base.Engine {'producer': 'Honda', 'model': 'Civic', 'year': 2019, 'horse_power': 130, 'price_per_day': 360}\n",
            "2020-10-16 23:00:51,298 INFO sqlalchemy.engine.base.Engine COMMIT\n",
            "2020-10-16 23:00:51,310 INFO sqlalchemy.engine.base.Engine BEGIN (implicit)\n",
            "2020-10-16 23:00:51,312 INFO sqlalchemy.engine.base.Engine INSERT INTO cars (producer, model, year, horse_power, price_per_day) VALUES (%(producer)s, %(model)s, %(year)s, %(horse_power)s, %(price_per_day)s)\n",
            "2020-10-16 23:00:51,314 INFO sqlalchemy.engine.base.Engine {'producer': 'Volvo', 'model': 'XC70', 'year': 2013, 'horse_power': 180, 'price_per_day': 280}\n",
            "2020-10-16 23:00:51,319 INFO sqlalchemy.engine.base.Engine COMMIT\n",
            "2020-10-16 23:00:51,327 INFO sqlalchemy.engine.base.Engine BEGIN (implicit)\n",
            "2020-10-16 23:00:51,330 INFO sqlalchemy.engine.base.Engine INSERT INTO bookings (client_id, car_id, start_date, end_date, total_amount) VALUES (%(client_id)s, %(car_id)s, %(start_date)s, %(end_date)s, %(total_amount)s)\n",
            "2020-10-16 23:00:51,332 INFO sqlalchemy.engine.base.Engine {'client_id': 3, 'car_id': 3, 'start_date': '2020-07-06', 'end_date': '2020-07-08', 'total_amount': 400}\n",
            "2020-10-16 23:00:51,335 INFO sqlalchemy.engine.base.Engine COMMIT\n",
            "2020-10-16 23:00:51,343 INFO sqlalchemy.engine.base.Engine BEGIN (implicit)\n",
            "2020-10-16 23:00:51,346 INFO sqlalchemy.engine.base.Engine INSERT INTO bookings (client_id, car_id, start_date, end_date, total_amount) VALUES (%(client_id)s, %(car_id)s, %(start_date)s, %(end_date)s, %(total_amount)s)\n",
            "2020-10-16 23:00:51,347 INFO sqlalchemy.engine.base.Engine {'client_id': 6, 'car_id': 10, 'start_date': '2020-07-10', 'end_date': '2020-07-16', 'total_amount': 1680}\n",
            "2020-10-16 23:00:51,351 INFO sqlalchemy.engine.base.Engine COMMIT\n",
            "2020-10-16 23:00:51,359 INFO sqlalchemy.engine.base.Engine BEGIN (implicit)\n",
            "2020-10-16 23:00:51,361 INFO sqlalchemy.engine.base.Engine INSERT INTO bookings (client_id, car_id, start_date, end_date, total_amount) VALUES (%(client_id)s, %(car_id)s, %(start_date)s, %(end_date)s, %(total_amount)s)\n",
            "2020-10-16 23:00:51,361 INFO sqlalchemy.engine.base.Engine {'client_id': 4, 'car_id': 5, 'start_date': '2020-07-11', 'end_date': '2020-07-14', 'total_amount': 450}\n",
            "2020-10-16 23:00:51,365 INFO sqlalchemy.engine.base.Engine COMMIT\n",
            "2020-10-16 23:00:51,375 INFO sqlalchemy.engine.base.Engine BEGIN (implicit)\n",
            "2020-10-16 23:00:51,376 INFO sqlalchemy.engine.base.Engine INSERT INTO bookings (client_id, car_id, start_date, end_date, total_amount) VALUES (%(client_id)s, %(car_id)s, %(start_date)s, %(end_date)s, %(total_amount)s)\n",
            "2020-10-16 23:00:51,377 INFO sqlalchemy.engine.base.Engine {'client_id': 5, 'car_id': 4, 'start_date': '2020-07-11', 'end_date': '2020-07-13', 'total_amount': 600}\n",
            "2020-10-16 23:00:51,380 INFO sqlalchemy.engine.base.Engine COMMIT\n",
            "2020-10-16 23:00:51,388 INFO sqlalchemy.engine.base.Engine BEGIN (implicit)\n",
            "2020-10-16 23:00:51,390 INFO sqlalchemy.engine.base.Engine INSERT INTO bookings (client_id, car_id, start_date, end_date, total_amount) VALUES (%(client_id)s, %(car_id)s, %(start_date)s, %(end_date)s, %(total_amount)s)\n",
            "2020-10-16 23:00:51,391 INFO sqlalchemy.engine.base.Engine {'client_id': 7, 'car_id': 3, 'start_date': '2020-07-12', 'end_date': '2020-07-14', 'total_amount': 800}\n",
            "2020-10-16 23:00:51,395 INFO sqlalchemy.engine.base.Engine COMMIT\n",
            "2020-10-16 23:00:51,402 INFO sqlalchemy.engine.base.Engine BEGIN (implicit)\n",
            "2020-10-16 23:00:51,403 INFO sqlalchemy.engine.base.Engine INSERT INTO bookings (client_id, car_id, start_date, end_date, total_amount) VALUES (%(client_id)s, %(car_id)s, %(start_date)s, %(end_date)s, %(total_amount)s)\n",
            "2020-10-16 23:00:51,404 INFO sqlalchemy.engine.base.Engine {'client_id': 5, 'car_id': 7, 'start_date': '2020-07-14', 'end_date': '2020-07-17', 'total_amount': 240}\n",
            "2020-10-16 23:00:51,411 INFO sqlalchemy.engine.base.Engine COMMIT\n",
            "2020-10-16 23:00:51,419 INFO sqlalchemy.engine.base.Engine BEGIN (implicit)\n",
            "2020-10-16 23:00:51,420 INFO sqlalchemy.engine.base.Engine INSERT INTO bookings (client_id, car_id, start_date, end_date, total_amount) VALUES (%(client_id)s, %(car_id)s, %(start_date)s, %(end_date)s, %(total_amount)s)\n",
            "2020-10-16 23:00:51,421 INFO sqlalchemy.engine.base.Engine {'client_id': 3, 'car_id': 8, 'start_date': '2020-07-14', 'end_date': '2020-07-16', 'total_amount': 380}\n",
            "2020-10-16 23:00:51,423 INFO sqlalchemy.engine.base.Engine COMMIT\n",
            "2020-10-16 23:00:51,436 INFO sqlalchemy.engine.base.Engine BEGIN (implicit)\n",
            "2020-10-16 23:00:51,440 INFO sqlalchemy.engine.base.Engine INSERT INTO bookings (client_id, car_id, start_date, end_date, total_amount) VALUES (%(client_id)s, %(car_id)s, %(start_date)s, %(end_date)s, %(total_amount)s)\n",
            "2020-10-16 23:00:51,441 INFO sqlalchemy.engine.base.Engine {'client_id': 5, 'car_id': 9, 'start_date': '2020-07-15', 'end_date': '2020-07-18', 'total_amount': 1080}\n",
            "2020-10-16 23:00:51,449 INFO sqlalchemy.engine.base.Engine COMMIT\n",
            "2020-10-16 23:00:51,455 INFO sqlalchemy.engine.base.Engine BEGIN (implicit)\n",
            "2020-10-16 23:00:51,456 INFO sqlalchemy.engine.base.Engine INSERT INTO bookings (client_id, car_id, start_date, end_date, total_amount) VALUES (%(client_id)s, %(car_id)s, %(start_date)s, %(end_date)s, %(total_amount)s)\n",
            "2020-10-16 23:00:51,458 INFO sqlalchemy.engine.base.Engine {'client_id': 6, 'car_id': 10, 'start_date': '2020-07-16', 'end_date': '2020-07-20', 'total_amount': 1120}\n",
            "2020-10-16 23:00:51,462 INFO sqlalchemy.engine.base.Engine COMMIT\n",
            "2020-10-16 23:00:51,469 INFO sqlalchemy.engine.base.Engine BEGIN (implicit)\n",
            "2020-10-16 23:00:51,471 INFO sqlalchemy.engine.base.Engine INSERT INTO bookings (client_id, car_id, start_date, end_date, total_amount) VALUES (%(client_id)s, %(car_id)s, %(start_date)s, %(end_date)s, %(total_amount)s)\n",
            "2020-10-16 23:00:51,472 INFO sqlalchemy.engine.base.Engine {'client_id': 8, 'car_id': 1, 'start_date': '2020-07-16', 'end_date': '2020-07-19', 'total_amount': 600}\n",
            "2020-10-16 23:00:51,474 INFO sqlalchemy.engine.base.Engine COMMIT\n",
            "2020-10-16 23:00:51,479 INFO sqlalchemy.engine.base.Engine BEGIN (implicit)\n",
            "2020-10-16 23:00:51,480 INFO sqlalchemy.engine.base.Engine INSERT INTO bookings (client_id, car_id, start_date, end_date, total_amount) VALUES (%(client_id)s, %(car_id)s, %(start_date)s, %(end_date)s, %(total_amount)s)\n",
            "2020-10-16 23:00:51,482 INFO sqlalchemy.engine.base.Engine {'client_id': 9, 'car_id': 2, 'start_date': '2020-07-16', 'end_date': '2020-07-21', 'total_amount': 500}\n",
            "2020-10-16 23:00:51,484 INFO sqlalchemy.engine.base.Engine COMMIT\n",
            "2020-10-16 23:00:51,492 INFO sqlalchemy.engine.base.Engine BEGIN (implicit)\n",
            "2020-10-16 23:00:51,496 INFO sqlalchemy.engine.base.Engine INSERT INTO bookings (client_id, car_id, start_date, end_date, total_amount) VALUES (%(client_id)s, %(car_id)s, %(start_date)s, %(end_date)s, %(total_amount)s)\n",
            "2020-10-16 23:00:51,498 INFO sqlalchemy.engine.base.Engine {'client_id': 10, 'car_id': 6, 'start_date': '2020-07-17', 'end_date': '2020-07-19', 'total_amount': 280}\n",
            "2020-10-16 23:00:51,501 INFO sqlalchemy.engine.base.Engine COMMIT\n",
            "2020-10-16 23:00:51,509 INFO sqlalchemy.engine.base.Engine BEGIN (implicit)\n",
            "2020-10-16 23:00:51,511 INFO sqlalchemy.engine.base.Engine INSERT INTO bookings (client_id, car_id, start_date, end_date, total_amount) VALUES (%(client_id)s, %(car_id)s, %(start_date)s, %(end_date)s, %(total_amount)s)\n",
            "2020-10-16 23:00:51,511 INFO sqlalchemy.engine.base.Engine {'client_id': 1, 'car_id': 9, 'start_date': '2020-07-17', 'end_date': '2020-07-19', 'total_amount': 720}\n",
            "2020-10-16 23:00:51,514 INFO sqlalchemy.engine.base.Engine COMMIT\n",
            "2020-10-16 23:00:51,521 INFO sqlalchemy.engine.base.Engine BEGIN (implicit)\n",
            "2020-10-16 23:00:51,523 INFO sqlalchemy.engine.base.Engine INSERT INTO bookings (client_id, car_id, start_date, end_date, total_amount) VALUES (%(client_id)s, %(car_id)s, %(start_date)s, %(end_date)s, %(total_amount)s)\n",
            "2020-10-16 23:00:51,523 INFO sqlalchemy.engine.base.Engine {'client_id': 3, 'car_id': 7, 'start_date': '2020-07-18', 'end_date': '2020-07-21', 'total_amount': 240}\n",
            "2020-10-16 23:00:51,525 INFO sqlalchemy.engine.base.Engine COMMIT\n",
            "2020-10-16 23:00:51,534 INFO sqlalchemy.engine.base.Engine BEGIN (implicit)\n",
            "2020-10-16 23:00:51,535 INFO sqlalchemy.engine.base.Engine INSERT INTO bookings (client_id, car_id, start_date, end_date, total_amount) VALUES (%(client_id)s, %(car_id)s, %(start_date)s, %(end_date)s, %(total_amount)s)\n",
            "2020-10-16 23:00:51,536 INFO sqlalchemy.engine.base.Engine {'client_id': 5, 'car_id': 4, 'start_date': '2020-07-18', 'end_date': '2020-07-22', 'total_amount': 1200}\n",
            "2020-10-16 23:00:51,539 INFO sqlalchemy.engine.base.Engine COMMIT\n"
          ],
          "name": "stdout"
        }
      ]
    },
    {
      "cell_type": "markdown",
      "metadata": {
        "id": "01qCfpvZpUmv"
      },
      "source": [
        "Spróbujmy teraz podziałać na tej utworzonej bazie:"
      ]
    },
    {
      "cell_type": "code",
      "metadata": {
        "id": "bW8Xg9e1pYVN",
        "colab": {
          "base_uri": "https://localhost:8080/",
          "height": 377
        },
        "outputId": "653b92b7-8cee-4df3-d621-29772dd5856a"
      },
      "source": [
        "#1\n",
        "result = session.query(Bookings).filter(Bookings.client_id == 3)\n",
        "for booking in result:\n",
        "    print(booking)\n",
        "\n",
        "#2\n",
        "from sqlalchemy.sql import select\n",
        "\n",
        "conn = eng.connect()\n",
        "s = select([Bookings]).where(Bookings.client_id == 3)\n",
        "result = conn.execute(s).fetchall()\n",
        "print(result)\n",
        "\n",
        "from sqlalchemy.sql import select\n",
        "from sqlalchemy import join\n",
        "\n",
        "j = join(Bookings, Cars, Bookings.car_id == Cars.car_id)\n",
        "s = select([Cars]).select_from(j).where(Bookings.client_id == 5)\n",
        "result = conn.execute(s)\n",
        "for car in result:\n",
        "    print(car)\n",
        "\n"
      ],
      "execution_count": null,
      "outputs": [
        {
          "output_type": "stream",
          "text": [
            "2020-10-16 23:41:16,546 INFO sqlalchemy.engine.base.Engine SELECT bookings.booking_id AS bookings_booking_id, bookings.client_id AS bookings_client_id, bookings.car_id AS bookings_car_id, bookings.start_date AS bookings_start_date, bookings.end_date AS bookings_end_date, bookings.total_amount AS bookings_total_amount \n",
            "FROM bookings \n",
            "WHERE bookings.client_id = %(client_id_1)s\n",
            "2020-10-16 23:41:16,547 INFO sqlalchemy.engine.base.Engine {'client_id_1': 3}\n",
            "<__main__.Bookings object at 0x7f1fae3345f8>\n",
            "<__main__.Bookings object at 0x7f1fae3346a0>\n",
            "<__main__.Bookings object at 0x7f1fae471080>\n",
            "2020-10-16 23:41:16,557 INFO sqlalchemy.engine.base.Engine SELECT bookings.booking_id, bookings.client_id, bookings.car_id, bookings.start_date, bookings.end_date, bookings.total_amount \n",
            "FROM bookings \n",
            "WHERE bookings.client_id = %(client_id_1)s\n",
            "2020-10-16 23:41:16,558 INFO sqlalchemy.engine.base.Engine {'client_id_1': 3}\n",
            "[(1, 3, 3, datetime.date(2020, 7, 6), datetime.date(2020, 7, 8), 400), (7, 3, 8, datetime.date(2020, 7, 14), datetime.date(2020, 7, 16), 380), (14, 3, 7, datetime.date(2020, 7, 18), datetime.date(2020, 7, 21), 240)]\n",
            "2020-10-16 23:41:16,563 INFO sqlalchemy.engine.base.Engine SELECT cars.car_id, cars.producer, cars.model, cars.year, cars.horse_power, cars.price_per_day \n",
            "FROM bookings INNER JOIN cars ON bookings.car_id = cars.car_id \n",
            "WHERE bookings.client_id = %(client_id_1)s\n",
            "2020-10-16 23:41:16,566 INFO sqlalchemy.engine.base.Engine {'client_id_1': 5}\n",
            "(4, 'Toyota', 'Avensis', 2014, 72, 100)\n",
            "(7, 'Dacia', 'Logan', 2015, 103, 150)\n",
            "(9, 'BMW', 'E36', 2007, 110, 80)\n",
            "(4, 'Toyota', 'Avensis', 2014, 72, 100)\n"
          ],
          "name": "stdout"
        }
      ]
    },
    {
      "cell_type": "code",
      "metadata": {
        "id": "xn3lBblfCslv",
        "colab": {
          "base_uri": "https://localhost:8080/",
          "height": 51
        },
        "outputId": "577253c1-dee4-4971-99e6-8871cd44c339"
      },
      "source": [
        "import pickle\n",
        "\n",
        "#Here's an example dict\n",
        "grades = { 'Alice': 89, 'Bob': 72, 'Charles': 87 }\n",
        "\n",
        "#Use dumps to convert the object to a serialized string\n",
        "serial_grades = pickle.dumps( grades )\n",
        "print(serial_grades)\n",
        "#Use loads to de-serialize an object\n",
        "received_grades = pickle.loads( serial_grades )\n",
        "print(received_grades)"
      ],
      "execution_count": null,
      "outputs": [
        {
          "output_type": "stream",
          "text": [
            "b'\\x80\\x03}q\\x00(X\\x05\\x00\\x00\\x00Aliceq\\x01KYX\\x03\\x00\\x00\\x00Bobq\\x02KHX\\x07\\x00\\x00\\x00Charlesq\\x03KWu.'\n",
            "{'Alice': 89, 'Bob': 72, 'Charles': 87}\n"
          ],
          "name": "stdout"
        }
      ]
    },
    {
      "cell_type": "code",
      "metadata": {
        "id": "nLXxj_zOPHdJ",
        "colab": {
          "base_uri": "https://localhost:8080/",
          "height": 1000
        },
        "outputId": "0d859667-c6ab-42bb-f9db-d0803ed3926a"
      },
      "source": [
        "import sys\n",
        "!pip install -U pip\n",
        "!{sys.executable} -m pip install -U pandas-profiling[notebook]\n",
        "!jupyter nbextension enable --py widgetsnbextension\n",
        "\n",
        "from google.colab import drive\n",
        "drive.mount('/drive')\n"
      ],
      "execution_count": null,
      "outputs": [
        {
          "output_type": "stream",
          "text": [
            "Requirement already up-to-date: pip in /usr/local/lib/python3.6/dist-packages (20.2.3)\n",
            "Requirement already up-to-date: pandas-profiling[notebook] in /usr/local/lib/python3.6/dist-packages (2.9.0)\n",
            "Requirement already satisfied, skipping upgrade: phik>=0.9.10 in /usr/local/lib/python3.6/dist-packages (from pandas-profiling[notebook]) (0.10.0)\n",
            "Requirement already satisfied, skipping upgrade: missingno>=0.4.2 in /usr/local/lib/python3.6/dist-packages (from pandas-profiling[notebook]) (0.4.2)\n",
            "Requirement already satisfied, skipping upgrade: visions[type_image_path]==0.5.0 in /usr/local/lib/python3.6/dist-packages (from pandas-profiling[notebook]) (0.5.0)\n",
            "Requirement already satisfied, skipping upgrade: seaborn>=0.10.1 in /usr/local/lib/python3.6/dist-packages (from pandas-profiling[notebook]) (0.11.0)\n",
            "Requirement already satisfied, skipping upgrade: jinja2>=2.11.1 in /usr/local/lib/python3.6/dist-packages (from pandas-profiling[notebook]) (2.11.2)\n",
            "Requirement already satisfied, skipping upgrade: ipywidgets>=7.5.1 in /usr/local/lib/python3.6/dist-packages (from pandas-profiling[notebook]) (7.5.1)\n",
            "Requirement already satisfied, skipping upgrade: tangled-up-in-unicode>=0.0.6 in /usr/local/lib/python3.6/dist-packages (from pandas-profiling[notebook]) (0.0.6)\n",
            "Requirement already satisfied, skipping upgrade: confuse>=1.0.0 in /usr/local/lib/python3.6/dist-packages (from pandas-profiling[notebook]) (1.3.0)\n",
            "Requirement already satisfied, skipping upgrade: requests>=2.23.0 in /usr/local/lib/python3.6/dist-packages (from pandas-profiling[notebook]) (2.23.0)\n",
            "Requirement already satisfied, skipping upgrade: tqdm>=4.43.0 in /usr/local/lib/python3.6/dist-packages (from pandas-profiling[notebook]) (4.50.2)\n",
            "Requirement already satisfied, skipping upgrade: attrs>=19.3.0 in /usr/local/lib/python3.6/dist-packages (from pandas-profiling[notebook]) (20.2.0)\n",
            "Requirement already satisfied, skipping upgrade: numpy>=1.16.0 in /usr/local/lib/python3.6/dist-packages (from pandas-profiling[notebook]) (1.18.5)\n",
            "Requirement already satisfied, skipping upgrade: joblib in /usr/local/lib/python3.6/dist-packages (from pandas-profiling[notebook]) (0.16.0)\n",
            "Requirement already satisfied, skipping upgrade: pandas!=1.0.0,!=1.0.1,!=1.0.2,!=1.1.0,>=0.25.3 in /usr/local/lib/python3.6/dist-packages (from pandas-profiling[notebook]) (1.1.2)\n",
            "Requirement already satisfied, skipping upgrade: scipy>=1.4.1 in /usr/local/lib/python3.6/dist-packages (from pandas-profiling[notebook]) (1.4.1)\n",
            "Requirement already satisfied, skipping upgrade: matplotlib>=3.2.0 in /usr/local/lib/python3.6/dist-packages (from pandas-profiling[notebook]) (3.2.2)\n",
            "Requirement already satisfied, skipping upgrade: htmlmin>=0.1.12 in /usr/local/lib/python3.6/dist-packages (from pandas-profiling[notebook]) (0.1.12)\n",
            "Requirement already satisfied, skipping upgrade: jupyter-core>=4.6.3; extra == \"notebook\" in /usr/local/lib/python3.6/dist-packages (from pandas-profiling[notebook]) (4.6.3)\n",
            "Requirement already satisfied, skipping upgrade: jupyter-client>=6.0.0; extra == \"notebook\" in /usr/local/lib/python3.6/dist-packages (from pandas-profiling[notebook]) (6.1.7)\n",
            "Requirement already satisfied, skipping upgrade: numba>=0.38.1 in /usr/local/lib/python3.6/dist-packages (from phik>=0.9.10->pandas-profiling[notebook]) (0.48.0)\n",
            "Requirement already satisfied, skipping upgrade: networkx>=2.4 in /usr/local/lib/python3.6/dist-packages (from visions[type_image_path]==0.5.0->pandas-profiling[notebook]) (2.5)\n",
            "Requirement already satisfied, skipping upgrade: Pillow; extra == \"type_image_path\" in /usr/local/lib/python3.6/dist-packages (from visions[type_image_path]==0.5.0->pandas-profiling[notebook]) (7.0.0)\n",
            "Requirement already satisfied, skipping upgrade: imagehash; extra == \"type_image_path\" in /usr/local/lib/python3.6/dist-packages (from visions[type_image_path]==0.5.0->pandas-profiling[notebook]) (4.1.0)\n",
            "Requirement already satisfied, skipping upgrade: MarkupSafe>=0.23 in /usr/local/lib/python3.6/dist-packages (from jinja2>=2.11.1->pandas-profiling[notebook]) (1.1.1)\n",
            "Requirement already satisfied, skipping upgrade: traitlets>=4.3.1 in /usr/local/lib/python3.6/dist-packages (from ipywidgets>=7.5.1->pandas-profiling[notebook]) (4.3.3)\n",
            "Requirement already satisfied, skipping upgrade: ipython>=4.0.0; python_version >= \"3.3\" in /usr/local/lib/python3.6/dist-packages (from ipywidgets>=7.5.1->pandas-profiling[notebook]) (5.5.0)\n",
            "Requirement already satisfied, skipping upgrade: ipykernel>=4.5.1 in /usr/local/lib/python3.6/dist-packages (from ipywidgets>=7.5.1->pandas-profiling[notebook]) (4.10.1)\n",
            "Requirement already satisfied, skipping upgrade: nbformat>=4.2.0 in /usr/local/lib/python3.6/dist-packages (from ipywidgets>=7.5.1->pandas-profiling[notebook]) (5.0.7)\n",
            "Requirement already satisfied, skipping upgrade: widgetsnbextension~=3.5.0 in /usr/local/lib/python3.6/dist-packages (from ipywidgets>=7.5.1->pandas-profiling[notebook]) (3.5.1)\n",
            "Requirement already satisfied, skipping upgrade: pyyaml in /usr/local/lib/python3.6/dist-packages (from confuse>=1.0.0->pandas-profiling[notebook]) (3.13)\n",
            "Requirement already satisfied, skipping upgrade: urllib3!=1.25.0,!=1.25.1,<1.26,>=1.21.1 in /usr/local/lib/python3.6/dist-packages (from requests>=2.23.0->pandas-profiling[notebook]) (1.24.3)\n",
            "Requirement already satisfied, skipping upgrade: chardet<4,>=3.0.2 in /usr/local/lib/python3.6/dist-packages (from requests>=2.23.0->pandas-profiling[notebook]) (3.0.4)\n",
            "Requirement already satisfied, skipping upgrade: idna<3,>=2.5 in /usr/local/lib/python3.6/dist-packages (from requests>=2.23.0->pandas-profiling[notebook]) (2.10)\n",
            "Requirement already satisfied, skipping upgrade: certifi>=2017.4.17 in /usr/local/lib/python3.6/dist-packages (from requests>=2.23.0->pandas-profiling[notebook]) (2020.6.20)\n",
            "Requirement already satisfied, skipping upgrade: pytz>=2017.2 in /usr/local/lib/python3.6/dist-packages (from pandas!=1.0.0,!=1.0.1,!=1.0.2,!=1.1.0,>=0.25.3->pandas-profiling[notebook]) (2018.9)\n",
            "Requirement already satisfied, skipping upgrade: python-dateutil>=2.7.3 in /usr/local/lib/python3.6/dist-packages (from pandas!=1.0.0,!=1.0.1,!=1.0.2,!=1.1.0,>=0.25.3->pandas-profiling[notebook]) (2.8.1)\n",
            "Requirement already satisfied, skipping upgrade: pyparsing!=2.0.4,!=2.1.2,!=2.1.6,>=2.0.1 in /usr/local/lib/python3.6/dist-packages (from matplotlib>=3.2.0->pandas-profiling[notebook]) (2.4.7)\n",
            "Requirement already satisfied, skipping upgrade: kiwisolver>=1.0.1 in /usr/local/lib/python3.6/dist-packages (from matplotlib>=3.2.0->pandas-profiling[notebook]) (1.2.0)\n",
            "Requirement already satisfied, skipping upgrade: cycler>=0.10 in /usr/local/lib/python3.6/dist-packages (from matplotlib>=3.2.0->pandas-profiling[notebook]) (0.10.0)\n",
            "Requirement already satisfied, skipping upgrade: tornado>=4.1 in /usr/local/lib/python3.6/dist-packages (from jupyter-client>=6.0.0; extra == \"notebook\"->pandas-profiling[notebook]) (5.1.1)\n",
            "Requirement already satisfied, skipping upgrade: pyzmq>=13 in /usr/local/lib/python3.6/dist-packages (from jupyter-client>=6.0.0; extra == \"notebook\"->pandas-profiling[notebook]) (19.0.2)\n",
            "Requirement already satisfied, skipping upgrade: setuptools in /usr/local/lib/python3.6/dist-packages (from numba>=0.38.1->phik>=0.9.10->pandas-profiling[notebook]) (50.3.0)\n",
            "Requirement already satisfied, skipping upgrade: llvmlite<0.32.0,>=0.31.0dev0 in /usr/local/lib/python3.6/dist-packages (from numba>=0.38.1->phik>=0.9.10->pandas-profiling[notebook]) (0.31.0)\n",
            "Requirement already satisfied, skipping upgrade: decorator>=4.3.0 in /usr/local/lib/python3.6/dist-packages (from networkx>=2.4->visions[type_image_path]==0.5.0->pandas-profiling[notebook]) (4.4.2)\n",
            "Requirement already satisfied, skipping upgrade: six in /usr/local/lib/python3.6/dist-packages (from imagehash; extra == \"type_image_path\"->visions[type_image_path]==0.5.0->pandas-profiling[notebook]) (1.15.0)\n",
            "Requirement already satisfied, skipping upgrade: PyWavelets in /usr/local/lib/python3.6/dist-packages (from imagehash; extra == \"type_image_path\"->visions[type_image_path]==0.5.0->pandas-profiling[notebook]) (1.1.1)\n",
            "Requirement already satisfied, skipping upgrade: ipython-genutils in /usr/local/lib/python3.6/dist-packages (from traitlets>=4.3.1->ipywidgets>=7.5.1->pandas-profiling[notebook]) (0.2.0)\n",
            "Requirement already satisfied, skipping upgrade: pickleshare in /usr/local/lib/python3.6/dist-packages (from ipython>=4.0.0; python_version >= \"3.3\"->ipywidgets>=7.5.1->pandas-profiling[notebook]) (0.7.5)\n",
            "Requirement already satisfied, skipping upgrade: simplegeneric>0.8 in /usr/local/lib/python3.6/dist-packages (from ipython>=4.0.0; python_version >= \"3.3\"->ipywidgets>=7.5.1->pandas-profiling[notebook]) (0.8.1)\n",
            "Requirement already satisfied, skipping upgrade: pexpect; sys_platform != \"win32\" in /usr/local/lib/python3.6/dist-packages (from ipython>=4.0.0; python_version >= \"3.3\"->ipywidgets>=7.5.1->pandas-profiling[notebook]) (4.8.0)\n",
            "Requirement already satisfied, skipping upgrade: prompt-toolkit<2.0.0,>=1.0.4 in /usr/local/lib/python3.6/dist-packages (from ipython>=4.0.0; python_version >= \"3.3\"->ipywidgets>=7.5.1->pandas-profiling[notebook]) (1.0.18)\n",
            "Requirement already satisfied, skipping upgrade: pygments in /usr/local/lib/python3.6/dist-packages (from ipython>=4.0.0; python_version >= \"3.3\"->ipywidgets>=7.5.1->pandas-profiling[notebook]) (2.6.1)\n",
            "Requirement already satisfied, skipping upgrade: jsonschema!=2.5.0,>=2.4 in /usr/local/lib/python3.6/dist-packages (from nbformat>=4.2.0->ipywidgets>=7.5.1->pandas-profiling[notebook]) (2.6.0)\n",
            "Requirement already satisfied, skipping upgrade: notebook>=4.4.1 in /usr/local/lib/python3.6/dist-packages (from widgetsnbextension~=3.5.0->ipywidgets>=7.5.1->pandas-profiling[notebook]) (5.3.1)\n",
            "Requirement already satisfied, skipping upgrade: ptyprocess>=0.5 in /usr/local/lib/python3.6/dist-packages (from pexpect; sys_platform != \"win32\"->ipython>=4.0.0; python_version >= \"3.3\"->ipywidgets>=7.5.1->pandas-profiling[notebook]) (0.6.0)\n",
            "Requirement already satisfied, skipping upgrade: wcwidth in /usr/local/lib/python3.6/dist-packages (from prompt-toolkit<2.0.0,>=1.0.4->ipython>=4.0.0; python_version >= \"3.3\"->ipywidgets>=7.5.1->pandas-profiling[notebook]) (0.2.5)\n",
            "Requirement already satisfied, skipping upgrade: Send2Trash in /usr/local/lib/python3.6/dist-packages (from notebook>=4.4.1->widgetsnbextension~=3.5.0->ipywidgets>=7.5.1->pandas-profiling[notebook]) (1.5.0)\n",
            "Requirement already satisfied, skipping upgrade: terminado>=0.8.1 in /usr/local/lib/python3.6/dist-packages (from notebook>=4.4.1->widgetsnbextension~=3.5.0->ipywidgets>=7.5.1->pandas-profiling[notebook]) (0.9.1)\n",
            "Requirement already satisfied, skipping upgrade: nbconvert in /usr/local/lib/python3.6/dist-packages (from notebook>=4.4.1->widgetsnbextension~=3.5.0->ipywidgets>=7.5.1->pandas-profiling[notebook]) (5.6.1)\n",
            "Requirement already satisfied, skipping upgrade: bleach in /usr/local/lib/python3.6/dist-packages (from nbconvert->notebook>=4.4.1->widgetsnbextension~=3.5.0->ipywidgets>=7.5.1->pandas-profiling[notebook]) (3.2.1)\n",
            "Requirement already satisfied, skipping upgrade: mistune<2,>=0.8.1 in /usr/local/lib/python3.6/dist-packages (from nbconvert->notebook>=4.4.1->widgetsnbextension~=3.5.0->ipywidgets>=7.5.1->pandas-profiling[notebook]) (0.8.4)\n",
            "Requirement already satisfied, skipping upgrade: testpath in /usr/local/lib/python3.6/dist-packages (from nbconvert->notebook>=4.4.1->widgetsnbextension~=3.5.0->ipywidgets>=7.5.1->pandas-profiling[notebook]) (0.4.4)\n",
            "Requirement already satisfied, skipping upgrade: defusedxml in /usr/local/lib/python3.6/dist-packages (from nbconvert->notebook>=4.4.1->widgetsnbextension~=3.5.0->ipywidgets>=7.5.1->pandas-profiling[notebook]) (0.6.0)\n",
            "Requirement already satisfied, skipping upgrade: entrypoints>=0.2.2 in /usr/local/lib/python3.6/dist-packages (from nbconvert->notebook>=4.4.1->widgetsnbextension~=3.5.0->ipywidgets>=7.5.1->pandas-profiling[notebook]) (0.3)\n",
            "Requirement already satisfied, skipping upgrade: pandocfilters>=1.4.1 in /usr/local/lib/python3.6/dist-packages (from nbconvert->notebook>=4.4.1->widgetsnbextension~=3.5.0->ipywidgets>=7.5.1->pandas-profiling[notebook]) (1.4.2)\n",
            "Requirement already satisfied, skipping upgrade: packaging in /usr/local/lib/python3.6/dist-packages (from bleach->nbconvert->notebook>=4.4.1->widgetsnbextension~=3.5.0->ipywidgets>=7.5.1->pandas-profiling[notebook]) (20.4)\n",
            "Requirement already satisfied, skipping upgrade: webencodings in /usr/local/lib/python3.6/dist-packages (from bleach->nbconvert->notebook>=4.4.1->widgetsnbextension~=3.5.0->ipywidgets>=7.5.1->pandas-profiling[notebook]) (0.5.1)\n",
            "Enabling notebook extension jupyter-js-widgets/extension...\n",
            "      - Validating: \u001b[32mOK\u001b[0m\n",
            "Mounted at /drive\n"
          ],
          "name": "stdout"
        }
      ]
    },
    {
      "cell_type": "code",
      "metadata": {
        "id": "2UDsZacloyIb",
        "colab": {
          "base_uri": "https://localhost:8080/",
          "height": 85
        },
        "outputId": "c7ebab0d-61f5-4b85-993d-6ddac7f63599"
      },
      "source": [
        "import os\n",
        "os.chdir(\"drive\")\n",
        "os.chdir(\"My Drive\")"
      ],
      "execution_count": null,
      "outputs": [
        {
          "output_type": "stream",
          "text": [
            "bin\t datalab  etc\tlib32  mnt   root  srv\t  tensorflow-1.15.2  usr\n",
            "boot\t dev\t  home\tlib64  opt   run   swift  tmp\t\t     var\n",
            "content  drive\t  lib\tmedia  proc  sbin  sys\t  tools\n",
            "'My Drive'\n"
          ],
          "name": "stdout"
        }
      ]
    },
    {
      "cell_type": "code",
      "metadata": {
        "id": "NRGNaWURp1FC",
        "colab": {
          "base_uri": "https://localhost:8080/",
          "height": 1000
        },
        "outputId": "212f287a-9cf8-42bf-e6a2-a777c969d7bc"
      },
      "source": [
        "!ls"
      ],
      "execution_count": null,
      "outputs": [
        {
          "output_type": "stream",
          "text": [
            "'1576418255304_1576416877008_skrypt- dzien-1.gdoc'\n",
            "'1576418413874_skrypt- dzien-2.gdoc'\n",
            "'2019.01.29_ MB workflow-Micro-solutions_Silvija.pptx'\n",
            " 2019-12-13-Autenti-DR___Wroc_aw___zlecenieUZ___Damian___Brzoza___1951.gdoc\n",
            " 2019-12-13-Autenti-DR___Wroc_aw___zlecenieUZ___Damian___Brzoza___1951.pdf\n",
            " 20200425_114737.jpg\n",
            "'7_kluczowe_zasoby (osobowe).gdoc'\n",
            "'air.com.rosettastone.mobile.CoursePlayer_v5.11.2_b5110228_[SAP].apk'\n",
            "'Apeer issues.gdoc'\n",
            "'Arkusz kalkulacyjny bez tytułu.gsheet'\n",
            " asd.gdoc\n",
            "'Barania z Wiki'\n",
            " całość.docx\n",
            " całość.pdf\n",
            " Codewars.gdoc\n",
            "'Colab Notebooks'\n",
            "'DamianBrzozaCV_PL_ONEPAGE (1).docx'\n",
            "'DamianBrzozaCV_PL_ONEPAGE (1).gdoc'\n",
            " DamianBrzozaCV_PL_ONEPAGE.docx\n",
            " DamianBrzozaCV_PL_ONEPAGE.gdoc\n",
            "'Dane Dane Dane.gdoc'\n",
            " Database.kdbx\n",
            " DataScienceInterviewQ.pdf\n",
            "'data science jola.pptx'\n",
            " Data+Science-kopia.pptx\n",
            "'Data Science zdalny RD-skonwertowany.pptx'\n",
            "'Diagnostyka to Gówno.gdoc'\n",
            "'Dla Pauliny KNIAŚ'\n",
            " Documents\n",
            "'Dokument bez nazwy.gdoc'\n",
            "'Dokument bez tsadsadsaytułu.gdoc'\n",
            "'Dokument bez tytułu (1).gdoc'\n",
            "'Dokument bez tytułu (2).gdoc'\n",
            "'Dokument bez tytułu (3).gdoc'\n",
            "'Dokument bez tytułu (4).gdoc'\n",
            "'Dokument bez tytułu (5).gdoc'\n",
            "'Dokument bez tytułu (6).gdoc'\n",
            "'Dokument bez tytułu (7).gdoc'\n",
            "'Dokument bez tytułu.gdoc'\n",
            " Dystrybucja.gsheet\n",
            "'Formularz bez nazwy.gform'\n",
            "'formularz o de minimis.gsheet'\n",
            "'formularz o de minimis.xlsx'\n",
            " Galopowanie.pdf\n",
            " GNUM\n",
            " gorski_mail.gdoc\n",
            "'Historie z mechanicznego.gdoc'\n",
            " icons8-github-32.png\n",
            " icons8-home-32.png\n",
            " icons8-linkedin-16.png\n",
            " icons8-linkedin-32.png\n",
            " icons8-linkedin-64.png\n",
            " IMAD\n",
            "'Kopia dokumentu Data Scientist - wprowadzenie 0.1 – 28 lipca o 12:32.gslides'\n",
            "'Kopia dokumentu Data Scientist - wprowadzenie 1.0 – 14 lipca o 16:17.gslides'\n",
            "'Kopia dokumentu Plan slajdów na panel ekspertów – 1 grudnia o 17:05.gdoc'\n",
            "'Kopia Kopia budzet_projektuPOPW.gsheet'\n",
            "'Kopia Kopia budzet_projektuPOPW.xlsx'\n",
            "'Kopia Opracowanie Kosiara.gdoc'\n",
            "'Kopia Raport z przeprowadzonych badań.gdoc'\n",
            "'Kopia Wrocław - zarezerwuj swoje zajęcia! :) (1).gsheet'\n",
            "'Kopia Wrocław - zarezerwuj swoje zajęcia! :) (2).gsheet'\n",
            "'Kopia Wrocław - zarezerwuj swoje zajęcia! :) (3).gsheet'\n",
            "'Kopia Wrocław - zarezerwuj swoje zajęcia! :).gsheet'\n",
            "'Lista do zabrania w góry:.gdoc'\n",
            "'Lista współtowarzyszy.gdoc'\n",
            "'Łysa hora'\n",
            "'Mapa bez nazwy (1).gmap'\n",
            "'Mapa bez nazwy.gmap'\n",
            " mateuszek\n",
            " Mateuszek\n",
            "'MB workflow-Micro-solutions.pptx'\n",
            " merged.pdf\n",
            " Michal_Czuba_formularz_do_suplementu.docx\n",
            " Michal_Czuba_formularz_do_suplementu.gdoc\n",
            " Mieszkanka.gsheet\n",
            " Model_biznesowy_canvas.pptx\n",
            " Model.pptx\n",
            " modelYOLO_path\n",
            " MS_2020-08-11-Release_Notes_Apeer_Blob_Tracking_Module.docx\n",
            " MS_2020-08-21-Release_Notes_Apeer_Statistics_Module.docx\n",
            " MS_Release_Notes_Apeer_Blob_Tracking_Module..docx\n",
            " MS_Verification_Report_Release_2020-08-11.gsheet\n",
            "'Niemieccy nurkowie.gdoc'\n",
            " Notes_200127_181101_4a9.docx\n",
            " Notes_200127_181101_4a9.gdoc\n",
            " Nowy-Dokument-2019-01-07-11.19.17.pdf\n",
            "'Nowy dokument tekstowy.txt'\n",
            " Odpowiedzi_obrona.gdoc\n",
            " old\n",
            "'Open Banking Hackathon.gdoc'\n",
            " opracowanie2.docx\n",
            " opracowanie3.docx\n",
            " opracowanie.docx\n",
            "'Opracowanie Kosiara.gdoc'\n",
            "'Opracowanie Kosiara (Oby dał to samo).gdoc'\n",
            "'Opracowanie Kosiara.pdf'\n",
            "'Opracowanie Optymalizacja.gdoc'\n",
            "'Oswiadczenie o przyjęciu nagrody .docx'\n",
            "'Oswiadczenie-zleceniobiorcy-2020 ptzykład (1).doc'\n",
            "'Oswiadczenie-zleceniobiorcy-2020 ptzykład (1).gdoc'\n",
            "'Otwarte Dane Hackathon.gdoc'\n",
            " Paulina-Kniaścvnowe.docx\n",
            " Pełnomocnictwo_notariusz.docx\n",
            "'Peter L. Bernstein - Przeciw bogom. Niezwykłe dziele ryzyka.pdf'\n",
            " Pitchdeck.pptx\n",
            "'Pitchdeck v3.pdf'\n",
            "'Pitchdeck v3.pptx'\n",
            " PKM.pdf\n",
            "'Plan Inkubacji - formularz.docx'\n",
            "'Plan Inkubacji - formularz.gdoc'\n",
            " Powtóreczka.gsheet\n",
            "'Powtórka z Pythona.gsheet'\n",
            "'Praca w Trasee.gdoc'\n",
            "'Prezentacja bez tytułu (1).gslides'\n",
            "'Prezentacja bez tytułu.gslides'\n",
            " Prezentacja.gdoc\n",
            " prezentacja_o_nas.pptx\n",
            "'Prezentacja - tekst.docx'\n",
            "'program 12-13 kwietnia 2019.docx'\n",
            "'program 12-13 kwietnia 2019.gdoc'\n",
            "'Propozycja Damian (1).pdf'\n",
            "'Propozycja Damian.pdf'\n",
            "'Protokół zdawczo-odbiorczy.docx'\n",
            " report.html\n",
            " Rozliczanko.gsheet\n",
            "'Rozliczanko wyjazdu.gsheet'\n",
            " Rozliczenia-Mieszkanie.gsheet\n",
            "'Rozliczenie 15-25.08. Węgry, Chorwacja.gsheet'\n",
            "'Samotna wyprawa Damiana B. '\n",
            " sample.csv\n",
            " SDA\n",
            "'SDA - Opisy.gdoc'\n",
            "'SDA-Webinar-Python-stacjonarne (1).pptx'\n",
            " SeaMore_final_1.pptx\n",
            " server.zip\n",
            "'Serwer Trasee.gsheet'\n",
            " Smoghaton.gdoc\n",
            " SponsorEvent.pptx\n",
            " Środki_Fundusze_ROV.gdoc\n",
            "'task-description (1).gdoc'\n",
            "'task-description (2).gdoc'\n",
            " task-description.gdoc\n",
            " test.csv\n",
            "'Testing!.gsheet'\n",
            " Trasee.gmap\n",
            "'Umowa_B2B_11.03.2019 (1).doc'\n",
            "'Umowa_B2B_11.03.2019 (1).gdoc'\n",
            "'Umowa_B2B_11.03.2019 (2).doc'\n",
            "'Umowa_B2B_11.03.2019 (2).gdoc'\n",
            "'Umowa_B2B_11.03.2019 (3).gdoc'\n",
            " Umowa_B2B_11.03.2019.doc\n",
            " Umowa_B2B_11.03.2019.gdoc\n",
            " Umowa_Przedstępna_Ola.docx\n",
            " Umowa_Przedstępna_Ola.gdoc\n",
            "'Umowa spółki - co powinna zawierać?.gdoc'\n",
            " Untitled0.ipynb\n",
            " Untitled1.ipynb\n",
            "'Wagi przedmiotów.gsheet'\n",
            "'Wakacje 2019.gdoc'\n",
            "'Wakajki z Wiki.gdoc'\n",
            "'Wniosek aplikacyjny 2019 AIP(1) (1).docx'\n",
            "'Workbook DS.docx'\n",
            "'Workbook DS.gdoc'\n",
            " wrocław_lo_ewd.gsheet\n",
            " wrocław_lo_ewd.xlsx\n",
            " Wypowiedzenie.gdoc\n",
            "'Wyprawa na Baranią doliną Białej Wisły.mp4'\n",
            "'Wyprawa na Ślęże.mp4'\n",
            " WZÓR-dla-trenerów-rachunek-zleceniobiorcy-1.doc\n",
            "'WZÓR dla trenerów - rachunek zleceniobiorcy.DOC'\n",
            "'WZÓR dla trenerów - rachunek zleceniobiorcy.DOC.gdoc'\n",
            "'Zaproszenie tekst.pdf'\n",
            " Zbiory.gdoc\n",
            " Zestawienie_kola_wspolpracy_mini_projekty.gsheet\n",
            " Zestawienie_kola_wspolpracy_mini_projekty.xlsx\n"
          ],
          "name": "stdout"
        }
      ]
    },
    {
      "cell_type": "code",
      "metadata": {
        "id": "nZOjDEVFPHdO"
      },
      "source": [
        "# Standard Library Imports\n",
        "from pathlib import Path\n",
        "\n",
        "# Installed packages\n",
        "import pandas as pd\n",
        "from ipywidgets import widgets\n",
        "\n",
        "# Our package\n",
        "from pandas_profiling import ProfileReport\n",
        "from pandas_profiling.utils.cache import cache_file"
      ],
      "execution_count": null,
      "outputs": []
    },
    {
      "cell_type": "markdown",
      "metadata": {
        "id": "hQpIHA8omVE8"
      },
      "source": [
        ""
      ]
    },
    {
      "cell_type": "code",
      "metadata": {
        "id": "9lmf28XIPHdR"
      },
      "source": [
        "# Read the Titanic Dataset\n",
        "file_name = cache_file(\n",
        "    \"titanic.csv\",\n",
        "    \"https://raw.githubusercontent.com/datasciencedojo/datasets/master/titanic.csv\",\n",
        ")\n",
        "df = pd.read_csv(file_name)"
      ],
      "execution_count": null,
      "outputs": []
    },
    {
      "cell_type": "code",
      "metadata": {
        "id": "0E67ASuCPHdT"
      },
      "source": [
        "# Generate the Profiling Report\n",
        "profile = ProfileReport(df, title=\"Titanic Dataset\", html={'style': {'full_width': True}}, sort=\"None\")"
      ],
      "execution_count": null,
      "outputs": []
    },
    {
      "cell_type": "code",
      "metadata": {
        "id": "Umsb_td7PHdW",
        "colab": {
          "base_uri": "https://localhost:8080/",
          "height": 66,
          "referenced_widgets": [
            "1c9849c9e5f1455e9ea2723b5d4bad3e",
            "18ee5765926f4e3a9195e4cba6768f49",
            "da9730ea70404cd2beb8adf6847e626c",
            "3992098c8e304eebacb0beaf62956380",
            "a2a341a9cbaf4c9d9f0c1ee63ee08eb8",
            "c6aecaa66c28441e91eb7bfd3f10a80c",
            "9eb5431518fb44798770f5976e8268af",
            "5ffd8f058fc5435198aa19047936f812",
            "79dfb962b569457dbe1c857b593100ba",
            "bc131599068b440d85fffd5b84fac61f",
            "7dcea1d3b89c4e5aaee2721d06430a1b"
          ]
        },
        "outputId": "6d3ee705-0344-4ac9-cbb8-a38228a22275"
      },
      "source": [
        "# The Notebook Widgets Interface\n",
        "profile.to_file('report.html')"
      ],
      "execution_count": null,
      "outputs": [
        {
          "output_type": "display_data",
          "data": {
            "application/vnd.jupyter.widget-view+json": {
              "model_id": "1c9849c9e5f1455e9ea2723b5d4bad3e",
              "version_minor": 0,
              "version_major": 2
            },
            "text/plain": [
              "HBox(children=(HTML(value='Export report to file'), FloatProgress(value=0.0, max=1.0), HTML(value='')))"
            ]
          },
          "metadata": {
            "tags": []
          }
        },
        {
          "output_type": "stream",
          "text": [
            "\n"
          ],
          "name": "stdout"
        }
      ]
    }
  ]
}