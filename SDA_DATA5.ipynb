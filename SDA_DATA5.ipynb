{
  "nbformat": 4,
  "nbformat_minor": 0,
  "metadata": {
    "colab": {
      "name": "SDA_DATA5.ipynb",
      "provenance": [],
      "collapsed_sections": []
    },
    "kernelspec": {
      "name": "python3",
      "display_name": "Python 3"
    },
    "language_info": {
      "name": "python"
    }
  },
  "cells": [
    {
      "cell_type": "code",
      "execution_count": null,
      "metadata": {
        "id": "pu00NVsx1gsV"
      },
      "outputs": [],
      "source": [
        "import requests\n",
        "import pandas as pd"
      ]
    },
    {
      "cell_type": "code",
      "source": [
        "url = \"https://catfact.ninja/facts\""
      ],
      "metadata": {
        "id": "j3lhQVwn27Iw"
      },
      "execution_count": null,
      "outputs": []
    },
    {
      "cell_type": "code",
      "source": [
        "response = requests.get(url)"
      ],
      "metadata": {
        "id": "uSrQnNjz3Swl"
      },
      "execution_count": null,
      "outputs": []
    },
    {
      "cell_type": "code",
      "source": [
        "response"
      ],
      "metadata": {
        "colab": {
          "base_uri": "https://localhost:8080/"
        },
        "id": "FzIwUACV3egs",
        "outputId": "21112479-a21a-4dae-ed8a-60d1a41bacc2"
      },
      "execution_count": null,
      "outputs": [
        {
          "output_type": "execute_result",
          "data": {
            "text/plain": [
              "<Response [200]>"
            ]
          },
          "metadata": {},
          "execution_count": 15
        }
      ]
    },
    {
      "cell_type": "code",
      "source": [
        "response.text"
      ],
      "metadata": {
        "colab": {
          "base_uri": "https://localhost:8080/",
          "height": 116
        },
        "id": "64dK5EfQ3fzH",
        "outputId": "ff6fea7d-52ee-4ec2-b718-680250882041"
      },
      "execution_count": null,
      "outputs": [
        {
          "output_type": "execute_result",
          "data": {
            "text/plain": [
              "'{\"current_page\":1,\"data\":[{\"fact\":\"When a family cat died in ancient Egypt, family members would mourn by shaving off their eyebrows. They also held elaborate funerals during which they drank wine and beat their breasts. The cat was embalmed with a sculpted wooden mask and the tiny mummy was placed in the family tomb or in a pet cemetery with tiny mummies of mice.\",\"length\":331},{\"fact\":\"Smuggling a cat out of ancient Egypt was punishable by death. Phoenician traders eventually succeeded in smuggling felines, which they sold to rich people in Athens and other important cities.\",\"length\":192},{\"fact\":\"A cat has 230 bones in its body. A human has 206. A cat has no collarbone, so it can fit through any opening the size of its head.\",\"length\":130},{\"fact\":\"A happy cat holds her tail high and steady.\",\"length\":43},{\"fact\":\"Most cats adore sardines.\",\"length\":25},{\"fact\":\"Cat families usually play best in even numbers. Cats and kittens should be aquired in pairs whenever possible.\",\"length\":110},{\"fact\":\"A cat has approximately 60 to 80 million olfactory cells (a human has between 5 and 20 million).\",\"length\":96},{\"fact\":\"Cats see six times better in the dark and at night than humans.\",\"length\":63},{\"fact\":\"Cats can be right-pawed or left-pawed.\",\"length\":38},{\"fact\":\"A cat\\\\u2019s back is extremely flexible because it has up to 53 loosely fitting vertebrae. Humans only have 34.\",\"length\":106}],\"first_page_url\":\"https:\\\\/\\\\/catfact.ninja\\\\/facts?page=1\",\"from\":1,\"last_page\":34,\"last_page_url\":\"https:\\\\/\\\\/catfact.ninja\\\\/facts?page=34\",\"links\":[{\"url\":null,\"label\":\"Previous\",\"active\":false},{\"url\":\"https:\\\\/\\\\/catfact.ninja\\\\/facts?page=1\",\"label\":\"1\",\"active\":true},{\"url\":\"https:\\\\/\\\\/catfact.ninja\\\\/facts?page=2\",\"label\":\"2\",\"active\":false},{\"url\":\"https:\\\\/\\\\/catfact.ninja\\\\/facts?page=3\",\"label\":\"3\",\"active\":false},{\"url\":\"https:\\\\/\\\\/catfact.ninja\\\\/facts?page=4\",\"label\":\"4\",\"active\":false},{\"url\":\"https:\\\\/\\\\/catfact.ninja\\\\/facts?page=5\",\"label\":\"5\",\"active\":false},{\"url\":\"https:\\\\/\\\\/catfact.ninja\\\\/facts?page=6\",\"label\":\"6\",\"active\":false},{\"url\":\"https:\\\\/\\\\/catfact.ninja\\\\/facts?page=7\",\"label\":\"7\",\"active\":false},{\"url\":\"https:\\\\/\\\\/catfact.ninja\\\\/facts?page=8\",\"label\":\"8\",\"active\":false},{\"url\":\"https:\\\\/\\\\/catfact.ninja\\\\/facts?page=9\",\"label\":\"9\",\"active\":false},{\"url\":\"https:\\\\/\\\\/catfact.ninja\\\\/facts?page=10\",\"label\":\"10\",\"active\":false},{\"url\":null,\"label\":\"...\",\"active\":false},{\"url\":\"https:\\\\/\\\\/catfact.ninja\\\\/facts?page=33\",\"label\":\"33\",\"active\":false},{\"url\":\"https:\\\\/\\\\/catfact.ninja\\\\/facts?page=34\",\"label\":\"34\",\"active\":false},{\"url\":\"https:\\\\/\\\\/catfact.ninja\\\\/facts?page=2\",\"label\":\"Next\",\"active\":false}],\"next_page_url\":\"https:\\\\/\\\\/catfact.ninja\\\\/facts?page=2\",\"path\":\"https:\\\\/\\\\/catfact.ninja\\\\/facts\",\"per_page\":10,\"prev_page_url\":null,\"to\":10,\"total\":332}'"
            ],
            "application/vnd.google.colaboratory.intrinsic+json": {
              "type": "string"
            }
          },
          "metadata": {},
          "execution_count": 20
        }
      ]
    },
    {
      "cell_type": "code",
      "source": [
        "response.json()"
      ],
      "metadata": {
        "colab": {
          "base_uri": "https://localhost:8080/"
        },
        "id": "IUU_NrX33wN7",
        "outputId": "a37e4487-aa42-4158-cc7b-383378e7a605"
      },
      "execution_count": null,
      "outputs": [
        {
          "output_type": "execute_result",
          "data": {
            "text/plain": [
              "{'current_page': 1,\n",
              " 'data': [{'fact': 'When a family cat died in ancient Egypt, family members would mourn by shaving off their eyebrows. They also held elaborate funerals during which they drank wine and beat their breasts. The cat was embalmed with a sculpted wooden mask and the tiny mummy was placed in the family tomb or in a pet cemetery with tiny mummies of mice.',\n",
              "   'length': 331},\n",
              "  {'fact': 'Smuggling a cat out of ancient Egypt was punishable by death. Phoenician traders eventually succeeded in smuggling felines, which they sold to rich people in Athens and other important cities.',\n",
              "   'length': 192},\n",
              "  {'fact': 'A cat has 230 bones in its body. A human has 206. A cat has no collarbone, so it can fit through any opening the size of its head.',\n",
              "   'length': 130},\n",
              "  {'fact': 'A happy cat holds her tail high and steady.', 'length': 43},\n",
              "  {'fact': 'Most cats adore sardines.', 'length': 25},\n",
              "  {'fact': 'Cat families usually play best in even numbers. Cats and kittens should be aquired in pairs whenever possible.',\n",
              "   'length': 110},\n",
              "  {'fact': 'A cat has approximately 60 to 80 million olfactory cells (a human has between 5 and 20 million).',\n",
              "   'length': 96},\n",
              "  {'fact': 'Cats see six times better in the dark and at night than humans.',\n",
              "   'length': 63},\n",
              "  {'fact': 'Cats can be right-pawed or left-pawed.', 'length': 38},\n",
              "  {'fact': 'A cat’s back is extremely flexible because it has up to 53 loosely fitting vertebrae. Humans only have 34.',\n",
              "   'length': 106}],\n",
              " 'first_page_url': 'https://catfact.ninja/facts?page=1',\n",
              " 'from': 1,\n",
              " 'last_page': 34,\n",
              " 'last_page_url': 'https://catfact.ninja/facts?page=34',\n",
              " 'links': [{'active': False, 'label': 'Previous', 'url': None},\n",
              "  {'active': True, 'label': '1', 'url': 'https://catfact.ninja/facts?page=1'},\n",
              "  {'active': False, 'label': '2', 'url': 'https://catfact.ninja/facts?page=2'},\n",
              "  {'active': False, 'label': '3', 'url': 'https://catfact.ninja/facts?page=3'},\n",
              "  {'active': False, 'label': '4', 'url': 'https://catfact.ninja/facts?page=4'},\n",
              "  {'active': False, 'label': '5', 'url': 'https://catfact.ninja/facts?page=5'},\n",
              "  {'active': False, 'label': '6', 'url': 'https://catfact.ninja/facts?page=6'},\n",
              "  {'active': False, 'label': '7', 'url': 'https://catfact.ninja/facts?page=7'},\n",
              "  {'active': False, 'label': '8', 'url': 'https://catfact.ninja/facts?page=8'},\n",
              "  {'active': False, 'label': '9', 'url': 'https://catfact.ninja/facts?page=9'},\n",
              "  {'active': False,\n",
              "   'label': '10',\n",
              "   'url': 'https://catfact.ninja/facts?page=10'},\n",
              "  {'active': False, 'label': '...', 'url': None},\n",
              "  {'active': False,\n",
              "   'label': '33',\n",
              "   'url': 'https://catfact.ninja/facts?page=33'},\n",
              "  {'active': False,\n",
              "   'label': '34',\n",
              "   'url': 'https://catfact.ninja/facts?page=34'},\n",
              "  {'active': False,\n",
              "   'label': 'Next',\n",
              "   'url': 'https://catfact.ninja/facts?page=2'}],\n",
              " 'next_page_url': 'https://catfact.ninja/facts?page=2',\n",
              " 'path': 'https://catfact.ninja/facts',\n",
              " 'per_page': 10,\n",
              " 'prev_page_url': None,\n",
              " 'to': 10,\n",
              " 'total': 332}"
            ]
          },
          "metadata": {},
          "execution_count": 21
        }
      ]
    },
    {
      "cell_type": "code",
      "source": [
        "pd.DataFrame(response.json()['data'])"
      ],
      "metadata": {
        "colab": {
          "base_uri": "https://localhost:8080/",
          "height": 352
        },
        "id": "KnXVeL-44kov",
        "outputId": "344b3996-2fb5-4691-e896-86aaf59da0ed"
      },
      "execution_count": null,
      "outputs": [
        {
          "output_type": "execute_result",
          "data": {
            "text/plain": [
              "                                                fact  length\n",
              "0  When a family cat died in ancient Egypt, famil...     331\n",
              "1  Smuggling a cat out of ancient Egypt was punis...     192\n",
              "2  A cat has 230 bones in its body. A human has 2...     130\n",
              "3        A happy cat holds her tail high and steady.      43\n",
              "4                          Most cats adore sardines.      25\n",
              "5  Cat families usually play best in even numbers...     110\n",
              "6  A cat has approximately 60 to 80 million olfac...      96\n",
              "7  Cats see six times better in the dark and at n...      63\n",
              "8             Cats can be right-pawed or left-pawed.      38\n",
              "9  A cat’s back is extremely flexible because it ...     106"
            ],
            "text/html": [
              "\n",
              "  <div id=\"df-a56e5ecb-b554-4c67-a9c7-5ea804bbdf22\">\n",
              "    <div class=\"colab-df-container\">\n",
              "      <div>\n",
              "<style scoped>\n",
              "    .dataframe tbody tr th:only-of-type {\n",
              "        vertical-align: middle;\n",
              "    }\n",
              "\n",
              "    .dataframe tbody tr th {\n",
              "        vertical-align: top;\n",
              "    }\n",
              "\n",
              "    .dataframe thead th {\n",
              "        text-align: right;\n",
              "    }\n",
              "</style>\n",
              "<table border=\"1\" class=\"dataframe\">\n",
              "  <thead>\n",
              "    <tr style=\"text-align: right;\">\n",
              "      <th></th>\n",
              "      <th>fact</th>\n",
              "      <th>length</th>\n",
              "    </tr>\n",
              "  </thead>\n",
              "  <tbody>\n",
              "    <tr>\n",
              "      <th>0</th>\n",
              "      <td>When a family cat died in ancient Egypt, famil...</td>\n",
              "      <td>331</td>\n",
              "    </tr>\n",
              "    <tr>\n",
              "      <th>1</th>\n",
              "      <td>Smuggling a cat out of ancient Egypt was punis...</td>\n",
              "      <td>192</td>\n",
              "    </tr>\n",
              "    <tr>\n",
              "      <th>2</th>\n",
              "      <td>A cat has 230 bones in its body. A human has 2...</td>\n",
              "      <td>130</td>\n",
              "    </tr>\n",
              "    <tr>\n",
              "      <th>3</th>\n",
              "      <td>A happy cat holds her tail high and steady.</td>\n",
              "      <td>43</td>\n",
              "    </tr>\n",
              "    <tr>\n",
              "      <th>4</th>\n",
              "      <td>Most cats adore sardines.</td>\n",
              "      <td>25</td>\n",
              "    </tr>\n",
              "    <tr>\n",
              "      <th>5</th>\n",
              "      <td>Cat families usually play best in even numbers...</td>\n",
              "      <td>110</td>\n",
              "    </tr>\n",
              "    <tr>\n",
              "      <th>6</th>\n",
              "      <td>A cat has approximately 60 to 80 million olfac...</td>\n",
              "      <td>96</td>\n",
              "    </tr>\n",
              "    <tr>\n",
              "      <th>7</th>\n",
              "      <td>Cats see six times better in the dark and at n...</td>\n",
              "      <td>63</td>\n",
              "    </tr>\n",
              "    <tr>\n",
              "      <th>8</th>\n",
              "      <td>Cats can be right-pawed or left-pawed.</td>\n",
              "      <td>38</td>\n",
              "    </tr>\n",
              "    <tr>\n",
              "      <th>9</th>\n",
              "      <td>A cat’s back is extremely flexible because it ...</td>\n",
              "      <td>106</td>\n",
              "    </tr>\n",
              "  </tbody>\n",
              "</table>\n",
              "</div>\n",
              "      <button class=\"colab-df-convert\" onclick=\"convertToInteractive('df-a56e5ecb-b554-4c67-a9c7-5ea804bbdf22')\"\n",
              "              title=\"Convert this dataframe to an interactive table.\"\n",
              "              style=\"display:none;\">\n",
              "        \n",
              "  <svg xmlns=\"http://www.w3.org/2000/svg\" height=\"24px\"viewBox=\"0 0 24 24\"\n",
              "       width=\"24px\">\n",
              "    <path d=\"M0 0h24v24H0V0z\" fill=\"none\"/>\n",
              "    <path d=\"M18.56 5.44l.94 2.06.94-2.06 2.06-.94-2.06-.94-.94-2.06-.94 2.06-2.06.94zm-11 1L8.5 8.5l.94-2.06 2.06-.94-2.06-.94L8.5 2.5l-.94 2.06-2.06.94zm10 10l.94 2.06.94-2.06 2.06-.94-2.06-.94-.94-2.06-.94 2.06-2.06.94z\"/><path d=\"M17.41 7.96l-1.37-1.37c-.4-.4-.92-.59-1.43-.59-.52 0-1.04.2-1.43.59L10.3 9.45l-7.72 7.72c-.78.78-.78 2.05 0 2.83L4 21.41c.39.39.9.59 1.41.59.51 0 1.02-.2 1.41-.59l7.78-7.78 2.81-2.81c.8-.78.8-2.07 0-2.86zM5.41 20L4 18.59l7.72-7.72 1.47 1.35L5.41 20z\"/>\n",
              "  </svg>\n",
              "      </button>\n",
              "      \n",
              "  <style>\n",
              "    .colab-df-container {\n",
              "      display:flex;\n",
              "      flex-wrap:wrap;\n",
              "      gap: 12px;\n",
              "    }\n",
              "\n",
              "    .colab-df-convert {\n",
              "      background-color: #E8F0FE;\n",
              "      border: none;\n",
              "      border-radius: 50%;\n",
              "      cursor: pointer;\n",
              "      display: none;\n",
              "      fill: #1967D2;\n",
              "      height: 32px;\n",
              "      padding: 0 0 0 0;\n",
              "      width: 32px;\n",
              "    }\n",
              "\n",
              "    .colab-df-convert:hover {\n",
              "      background-color: #E2EBFA;\n",
              "      box-shadow: 0px 1px 2px rgba(60, 64, 67, 0.3), 0px 1px 3px 1px rgba(60, 64, 67, 0.15);\n",
              "      fill: #174EA6;\n",
              "    }\n",
              "\n",
              "    [theme=dark] .colab-df-convert {\n",
              "      background-color: #3B4455;\n",
              "      fill: #D2E3FC;\n",
              "    }\n",
              "\n",
              "    [theme=dark] .colab-df-convert:hover {\n",
              "      background-color: #434B5C;\n",
              "      box-shadow: 0px 1px 3px 1px rgba(0, 0, 0, 0.15);\n",
              "      filter: drop-shadow(0px 1px 2px rgba(0, 0, 0, 0.3));\n",
              "      fill: #FFFFFF;\n",
              "    }\n",
              "  </style>\n",
              "\n",
              "      <script>\n",
              "        const buttonEl =\n",
              "          document.querySelector('#df-a56e5ecb-b554-4c67-a9c7-5ea804bbdf22 button.colab-df-convert');\n",
              "        buttonEl.style.display =\n",
              "          google.colab.kernel.accessAllowed ? 'block' : 'none';\n",
              "\n",
              "        async function convertToInteractive(key) {\n",
              "          const element = document.querySelector('#df-a56e5ecb-b554-4c67-a9c7-5ea804bbdf22');\n",
              "          const dataTable =\n",
              "            await google.colab.kernel.invokeFunction('convertToInteractive',\n",
              "                                                     [key], {});\n",
              "          if (!dataTable) return;\n",
              "\n",
              "          const docLinkHtml = 'Like what you see? Visit the ' +\n",
              "            '<a target=\"_blank\" href=https://colab.research.google.com/notebooks/data_table.ipynb>data table notebook</a>'\n",
              "            + ' to learn more about interactive tables.';\n",
              "          element.innerHTML = '';\n",
              "          dataTable['output_type'] = 'display_data';\n",
              "          await google.colab.output.renderOutput(dataTable, element);\n",
              "          const docLink = document.createElement('div');\n",
              "          docLink.innerHTML = docLinkHtml;\n",
              "          element.appendChild(docLink);\n",
              "        }\n",
              "      </script>\n",
              "    </div>\n",
              "  </div>\n",
              "  "
            ]
          },
          "metadata": {},
          "execution_count": 24
        }
      ]
    },
    {
      "cell_type": "code",
      "source": [
        ""
      ],
      "metadata": {
        "id": "8-rdCaUP4r4m"
      },
      "execution_count": null,
      "outputs": []
    }
  ]
}